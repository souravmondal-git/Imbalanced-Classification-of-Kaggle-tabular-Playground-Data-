{
 "cells": [
  {
   "cell_type": "code",
   "execution_count": 1,
   "metadata": {},
   "outputs": [],
   "source": [
    "import pandas as pd\n",
    "import matplotlib.pyplot as plt\n",
    "import seaborn as sns\n",
    "import numpy as np\n",
    "from scipy import stats"
   ]
  },
  {
   "cell_type": "code",
   "execution_count": 2,
   "metadata": {},
   "outputs": [],
   "source": [
    "df = pd.read_csv(\"train.csv\")"
   ]
  },
  {
   "cell_type": "code",
   "execution_count": 3,
   "metadata": {},
   "outputs": [
    {
     "data": {
      "text/html": [
       "<div>\n",
       "<style scoped>\n",
       "    .dataframe tbody tr th:only-of-type {\n",
       "        vertical-align: middle;\n",
       "    }\n",
       "\n",
       "    .dataframe tbody tr th {\n",
       "        vertical-align: top;\n",
       "    }\n",
       "\n",
       "    .dataframe thead th {\n",
       "        text-align: right;\n",
       "    }\n",
       "</style>\n",
       "<table border=\"1\" class=\"dataframe\">\n",
       "  <thead>\n",
       "    <tr style=\"text-align: right;\">\n",
       "      <th></th>\n",
       "      <th>id</th>\n",
       "      <th>cat0</th>\n",
       "      <th>cat1</th>\n",
       "      <th>cat2</th>\n",
       "      <th>cat3</th>\n",
       "      <th>cat4</th>\n",
       "      <th>cat5</th>\n",
       "      <th>cat6</th>\n",
       "      <th>cat7</th>\n",
       "      <th>cat8</th>\n",
       "      <th>...</th>\n",
       "      <th>cont2</th>\n",
       "      <th>cont3</th>\n",
       "      <th>cont4</th>\n",
       "      <th>cont5</th>\n",
       "      <th>cont6</th>\n",
       "      <th>cont7</th>\n",
       "      <th>cont8</th>\n",
       "      <th>cont9</th>\n",
       "      <th>cont10</th>\n",
       "      <th>target</th>\n",
       "    </tr>\n",
       "  </thead>\n",
       "  <tbody>\n",
       "    <tr>\n",
       "      <th>0</th>\n",
       "      <td>0</td>\n",
       "      <td>A</td>\n",
       "      <td>I</td>\n",
       "      <td>A</td>\n",
       "      <td>B</td>\n",
       "      <td>B</td>\n",
       "      <td>BI</td>\n",
       "      <td>A</td>\n",
       "      <td>S</td>\n",
       "      <td>Q</td>\n",
       "      <td>...</td>\n",
       "      <td>0.759439</td>\n",
       "      <td>0.795549</td>\n",
       "      <td>0.681917</td>\n",
       "      <td>0.621672</td>\n",
       "      <td>0.592184</td>\n",
       "      <td>0.791921</td>\n",
       "      <td>0.815254</td>\n",
       "      <td>0.965006</td>\n",
       "      <td>0.665915</td>\n",
       "      <td>0</td>\n",
       "    </tr>\n",
       "    <tr>\n",
       "      <th>1</th>\n",
       "      <td>1</td>\n",
       "      <td>A</td>\n",
       "      <td>I</td>\n",
       "      <td>A</td>\n",
       "      <td>A</td>\n",
       "      <td>E</td>\n",
       "      <td>BI</td>\n",
       "      <td>K</td>\n",
       "      <td>W</td>\n",
       "      <td>AD</td>\n",
       "      <td>...</td>\n",
       "      <td>0.386385</td>\n",
       "      <td>0.541366</td>\n",
       "      <td>0.388982</td>\n",
       "      <td>0.357778</td>\n",
       "      <td>0.600044</td>\n",
       "      <td>0.408701</td>\n",
       "      <td>0.399353</td>\n",
       "      <td>0.927406</td>\n",
       "      <td>0.493729</td>\n",
       "      <td>0</td>\n",
       "    </tr>\n",
       "    <tr>\n",
       "      <th>2</th>\n",
       "      <td>2</td>\n",
       "      <td>A</td>\n",
       "      <td>K</td>\n",
       "      <td>A</td>\n",
       "      <td>A</td>\n",
       "      <td>E</td>\n",
       "      <td>BI</td>\n",
       "      <td>A</td>\n",
       "      <td>E</td>\n",
       "      <td>BM</td>\n",
       "      <td>...</td>\n",
       "      <td>0.343255</td>\n",
       "      <td>0.616352</td>\n",
       "      <td>0.793687</td>\n",
       "      <td>0.552877</td>\n",
       "      <td>0.352113</td>\n",
       "      <td>0.388835</td>\n",
       "      <td>0.412303</td>\n",
       "      <td>0.292696</td>\n",
       "      <td>0.549452</td>\n",
       "      <td>0</td>\n",
       "    </tr>\n",
       "    <tr>\n",
       "      <th>3</th>\n",
       "      <td>3</td>\n",
       "      <td>A</td>\n",
       "      <td>K</td>\n",
       "      <td>A</td>\n",
       "      <td>C</td>\n",
       "      <td>E</td>\n",
       "      <td>BI</td>\n",
       "      <td>A</td>\n",
       "      <td>Y</td>\n",
       "      <td>AD</td>\n",
       "      <td>...</td>\n",
       "      <td>0.831147</td>\n",
       "      <td>0.807807</td>\n",
       "      <td>0.800032</td>\n",
       "      <td>0.619147</td>\n",
       "      <td>0.221789</td>\n",
       "      <td>0.897617</td>\n",
       "      <td>0.633669</td>\n",
       "      <td>0.760318</td>\n",
       "      <td>0.934242</td>\n",
       "      <td>0</td>\n",
       "    </tr>\n",
       "    <tr>\n",
       "      <th>4</th>\n",
       "      <td>4</td>\n",
       "      <td>A</td>\n",
       "      <td>I</td>\n",
       "      <td>G</td>\n",
       "      <td>B</td>\n",
       "      <td>E</td>\n",
       "      <td>BI</td>\n",
       "      <td>C</td>\n",
       "      <td>G</td>\n",
       "      <td>Q</td>\n",
       "      <td>...</td>\n",
       "      <td>0.338818</td>\n",
       "      <td>0.277308</td>\n",
       "      <td>0.610578</td>\n",
       "      <td>0.128291</td>\n",
       "      <td>0.578764</td>\n",
       "      <td>0.279167</td>\n",
       "      <td>0.351103</td>\n",
       "      <td>0.357084</td>\n",
       "      <td>0.328960</td>\n",
       "      <td>1</td>\n",
       "    </tr>\n",
       "    <tr>\n",
       "      <th>...</th>\n",
       "      <td>...</td>\n",
       "      <td>...</td>\n",
       "      <td>...</td>\n",
       "      <td>...</td>\n",
       "      <td>...</td>\n",
       "      <td>...</td>\n",
       "      <td>...</td>\n",
       "      <td>...</td>\n",
       "      <td>...</td>\n",
       "      <td>...</td>\n",
       "      <td>...</td>\n",
       "      <td>...</td>\n",
       "      <td>...</td>\n",
       "      <td>...</td>\n",
       "      <td>...</td>\n",
       "      <td>...</td>\n",
       "      <td>...</td>\n",
       "      <td>...</td>\n",
       "      <td>...</td>\n",
       "      <td>...</td>\n",
       "      <td>...</td>\n",
       "    </tr>\n",
       "    <tr>\n",
       "      <th>299995</th>\n",
       "      <td>499993</td>\n",
       "      <td>A</td>\n",
       "      <td>N</td>\n",
       "      <td>F</td>\n",
       "      <td>A</td>\n",
       "      <td>E</td>\n",
       "      <td>BU</td>\n",
       "      <td>A</td>\n",
       "      <td>AS</td>\n",
       "      <td>K</td>\n",
       "      <td>...</td>\n",
       "      <td>0.662428</td>\n",
       "      <td>0.671927</td>\n",
       "      <td>0.390566</td>\n",
       "      <td>0.145840</td>\n",
       "      <td>0.262767</td>\n",
       "      <td>0.514248</td>\n",
       "      <td>0.519340</td>\n",
       "      <td>0.617436</td>\n",
       "      <td>0.688007</td>\n",
       "      <td>0</td>\n",
       "    </tr>\n",
       "    <tr>\n",
       "      <th>299996</th>\n",
       "      <td>499995</td>\n",
       "      <td>A</td>\n",
       "      <td>K</td>\n",
       "      <td>A</td>\n",
       "      <td>A</td>\n",
       "      <td>G</td>\n",
       "      <td>BI</td>\n",
       "      <td>A</td>\n",
       "      <td>K</td>\n",
       "      <td>AE</td>\n",
       "      <td>...</td>\n",
       "      <td>0.821657</td>\n",
       "      <td>0.620356</td>\n",
       "      <td>0.384891</td>\n",
       "      <td>0.735879</td>\n",
       "      <td>0.547731</td>\n",
       "      <td>0.726653</td>\n",
       "      <td>0.470575</td>\n",
       "      <td>0.275743</td>\n",
       "      <td>0.638939</td>\n",
       "      <td>0</td>\n",
       "    </tr>\n",
       "    <tr>\n",
       "      <th>299997</th>\n",
       "      <td>499996</td>\n",
       "      <td>A</td>\n",
       "      <td>G</td>\n",
       "      <td>M</td>\n",
       "      <td>A</td>\n",
       "      <td>H</td>\n",
       "      <td>BI</td>\n",
       "      <td>C</td>\n",
       "      <td>L</td>\n",
       "      <td>F</td>\n",
       "      <td>...</td>\n",
       "      <td>0.407037</td>\n",
       "      <td>0.232436</td>\n",
       "      <td>0.832482</td>\n",
       "      <td>0.810663</td>\n",
       "      <td>0.596939</td>\n",
       "      <td>0.308821</td>\n",
       "      <td>0.373997</td>\n",
       "      <td>0.518024</td>\n",
       "      <td>0.452144</td>\n",
       "      <td>1</td>\n",
       "    </tr>\n",
       "    <tr>\n",
       "      <th>299998</th>\n",
       "      <td>499997</td>\n",
       "      <td>B</td>\n",
       "      <td>H</td>\n",
       "      <td>A</td>\n",
       "      <td>D</td>\n",
       "      <td>B</td>\n",
       "      <td>BI</td>\n",
       "      <td>A</td>\n",
       "      <td>AA</td>\n",
       "      <td>AX</td>\n",
       "      <td>...</td>\n",
       "      <td>0.808045</td>\n",
       "      <td>0.630708</td>\n",
       "      <td>0.346898</td>\n",
       "      <td>0.735147</td>\n",
       "      <td>0.563488</td>\n",
       "      <td>0.609836</td>\n",
       "      <td>0.680430</td>\n",
       "      <td>0.318453</td>\n",
       "      <td>0.335822</td>\n",
       "      <td>0</td>\n",
       "    </tr>\n",
       "    <tr>\n",
       "      <th>299999</th>\n",
       "      <td>499999</td>\n",
       "      <td>A</td>\n",
       "      <td>F</td>\n",
       "      <td>C</td>\n",
       "      <td>A</td>\n",
       "      <td>E</td>\n",
       "      <td>BI</td>\n",
       "      <td>C</td>\n",
       "      <td>AV</td>\n",
       "      <td>S</td>\n",
       "      <td>...</td>\n",
       "      <td>0.775451</td>\n",
       "      <td>0.848696</td>\n",
       "      <td>0.819377</td>\n",
       "      <td>0.355467</td>\n",
       "      <td>0.218153</td>\n",
       "      <td>0.968856</td>\n",
       "      <td>0.823655</td>\n",
       "      <td>0.330515</td>\n",
       "      <td>0.972569</td>\n",
       "      <td>0</td>\n",
       "    </tr>\n",
       "  </tbody>\n",
       "</table>\n",
       "<p>300000 rows × 32 columns</p>\n",
       "</div>"
      ],
      "text/plain": [
       "            id cat0 cat1 cat2 cat3 cat4 cat5 cat6 cat7 cat8  ...     cont2  \\\n",
       "0            0    A    I    A    B    B   BI    A    S    Q  ...  0.759439   \n",
       "1            1    A    I    A    A    E   BI    K    W   AD  ...  0.386385   \n",
       "2            2    A    K    A    A    E   BI    A    E   BM  ...  0.343255   \n",
       "3            3    A    K    A    C    E   BI    A    Y   AD  ...  0.831147   \n",
       "4            4    A    I    G    B    E   BI    C    G    Q  ...  0.338818   \n",
       "...        ...  ...  ...  ...  ...  ...  ...  ...  ...  ...  ...       ...   \n",
       "299995  499993    A    N    F    A    E   BU    A   AS    K  ...  0.662428   \n",
       "299996  499995    A    K    A    A    G   BI    A    K   AE  ...  0.821657   \n",
       "299997  499996    A    G    M    A    H   BI    C    L    F  ...  0.407037   \n",
       "299998  499997    B    H    A    D    B   BI    A   AA   AX  ...  0.808045   \n",
       "299999  499999    A    F    C    A    E   BI    C   AV    S  ...  0.775451   \n",
       "\n",
       "           cont3     cont4     cont5     cont6     cont7     cont8     cont9  \\\n",
       "0       0.795549  0.681917  0.621672  0.592184  0.791921  0.815254  0.965006   \n",
       "1       0.541366  0.388982  0.357778  0.600044  0.408701  0.399353  0.927406   \n",
       "2       0.616352  0.793687  0.552877  0.352113  0.388835  0.412303  0.292696   \n",
       "3       0.807807  0.800032  0.619147  0.221789  0.897617  0.633669  0.760318   \n",
       "4       0.277308  0.610578  0.128291  0.578764  0.279167  0.351103  0.357084   \n",
       "...          ...       ...       ...       ...       ...       ...       ...   \n",
       "299995  0.671927  0.390566  0.145840  0.262767  0.514248  0.519340  0.617436   \n",
       "299996  0.620356  0.384891  0.735879  0.547731  0.726653  0.470575  0.275743   \n",
       "299997  0.232436  0.832482  0.810663  0.596939  0.308821  0.373997  0.518024   \n",
       "299998  0.630708  0.346898  0.735147  0.563488  0.609836  0.680430  0.318453   \n",
       "299999  0.848696  0.819377  0.355467  0.218153  0.968856  0.823655  0.330515   \n",
       "\n",
       "          cont10 target  \n",
       "0       0.665915      0  \n",
       "1       0.493729      0  \n",
       "2       0.549452      0  \n",
       "3       0.934242      0  \n",
       "4       0.328960      1  \n",
       "...          ...    ...  \n",
       "299995  0.688007      0  \n",
       "299996  0.638939      0  \n",
       "299997  0.452144      1  \n",
       "299998  0.335822      0  \n",
       "299999  0.972569      0  \n",
       "\n",
       "[300000 rows x 32 columns]"
      ]
     },
     "execution_count": 3,
     "metadata": {},
     "output_type": "execute_result"
    }
   ],
   "source": [
    "df"
   ]
  },
  {
   "cell_type": "code",
   "execution_count": 4,
   "metadata": {},
   "outputs": [
    {
     "data": {
      "text/plain": [
       "Index(['id', 'cat0', 'cat1', 'cat2', 'cat3', 'cat4', 'cat5', 'cat6', 'cat7',\n",
       "       'cat8', 'cat9', 'cat10', 'cat11', 'cat12', 'cat13', 'cat14', 'cat15',\n",
       "       'cat16', 'cat17', 'cat18', 'cont0', 'cont1', 'cont2', 'cont3', 'cont4',\n",
       "       'cont5', 'cont6', 'cont7', 'cont8', 'cont9', 'cont10', 'target'],\n",
       "      dtype='object')"
      ]
     },
     "execution_count": 4,
     "metadata": {},
     "output_type": "execute_result"
    }
   ],
   "source": [
    "df.columns"
   ]
  },
  {
   "cell_type": "code",
   "execution_count": 5,
   "metadata": {},
   "outputs": [
    {
     "data": {
      "text/plain": [
       "id        False\n",
       "cat0      False\n",
       "cat1      False\n",
       "cat2      False\n",
       "cat3      False\n",
       "cat4      False\n",
       "cat5      False\n",
       "cat6      False\n",
       "cat7      False\n",
       "cat8      False\n",
       "cat9      False\n",
       "cat10     False\n",
       "cat11     False\n",
       "cat12     False\n",
       "cat13     False\n",
       "cat14     False\n",
       "cat15     False\n",
       "cat16     False\n",
       "cat17     False\n",
       "cat18     False\n",
       "cont0     False\n",
       "cont1     False\n",
       "cont2     False\n",
       "cont3     False\n",
       "cont4     False\n",
       "cont5     False\n",
       "cont6     False\n",
       "cont7     False\n",
       "cont8     False\n",
       "cont9     False\n",
       "cont10    False\n",
       "target    False\n",
       "dtype: bool"
      ]
     },
     "execution_count": 5,
     "metadata": {},
     "output_type": "execute_result"
    }
   ],
   "source": [
    "df.isnull().any()"
   ]
  },
  {
   "cell_type": "code",
   "execution_count": 6,
   "metadata": {},
   "outputs": [
    {
     "data": {
      "text/html": [
       "<div>\n",
       "<style scoped>\n",
       "    .dataframe tbody tr th:only-of-type {\n",
       "        vertical-align: middle;\n",
       "    }\n",
       "\n",
       "    .dataframe tbody tr th {\n",
       "        vertical-align: top;\n",
       "    }\n",
       "\n",
       "    .dataframe thead th {\n",
       "        text-align: right;\n",
       "    }\n",
       "</style>\n",
       "<table border=\"1\" class=\"dataframe\">\n",
       "  <thead>\n",
       "    <tr style=\"text-align: right;\">\n",
       "      <th></th>\n",
       "      <th>id</th>\n",
       "      <th>cont0</th>\n",
       "      <th>cont1</th>\n",
       "      <th>cont2</th>\n",
       "      <th>cont3</th>\n",
       "      <th>cont4</th>\n",
       "      <th>cont5</th>\n",
       "      <th>cont6</th>\n",
       "      <th>cont7</th>\n",
       "      <th>cont8</th>\n",
       "      <th>cont9</th>\n",
       "      <th>cont10</th>\n",
       "      <th>target</th>\n",
       "    </tr>\n",
       "  </thead>\n",
       "  <tbody>\n",
       "    <tr>\n",
       "      <th>count</th>\n",
       "      <td>300000.000000</td>\n",
       "      <td>300000.000000</td>\n",
       "      <td>300000.000000</td>\n",
       "      <td>300000.000000</td>\n",
       "      <td>300000.000000</td>\n",
       "      <td>300000.000000</td>\n",
       "      <td>300000.000000</td>\n",
       "      <td>300000.000000</td>\n",
       "      <td>300000.000000</td>\n",
       "      <td>300000.000000</td>\n",
       "      <td>300000.000000</td>\n",
       "      <td>300000.000000</td>\n",
       "      <td>300000.000000</td>\n",
       "    </tr>\n",
       "    <tr>\n",
       "      <th>mean</th>\n",
       "      <td>250183.425697</td>\n",
       "      <td>0.504749</td>\n",
       "      <td>0.494073</td>\n",
       "      <td>0.516632</td>\n",
       "      <td>0.474235</td>\n",
       "      <td>0.504848</td>\n",
       "      <td>0.502257</td>\n",
       "      <td>0.488229</td>\n",
       "      <td>0.501739</td>\n",
       "      <td>0.488074</td>\n",
       "      <td>0.469496</td>\n",
       "      <td>0.508230</td>\n",
       "      <td>0.264870</td>\n",
       "    </tr>\n",
       "    <tr>\n",
       "      <th>std</th>\n",
       "      <td>144320.334812</td>\n",
       "      <td>0.206788</td>\n",
       "      <td>0.213037</td>\n",
       "      <td>0.214851</td>\n",
       "      <td>0.216636</td>\n",
       "      <td>0.227474</td>\n",
       "      <td>0.241243</td>\n",
       "      <td>0.211335</td>\n",
       "      <td>0.203496</td>\n",
       "      <td>0.179048</td>\n",
       "      <td>0.194516</td>\n",
       "      <td>0.203393</td>\n",
       "      <td>0.441265</td>\n",
       "    </tr>\n",
       "    <tr>\n",
       "      <th>min</th>\n",
       "      <td>0.000000</td>\n",
       "      <td>-0.049562</td>\n",
       "      <td>0.084480</td>\n",
       "      <td>0.094493</td>\n",
       "      <td>-0.045316</td>\n",
       "      <td>0.168071</td>\n",
       "      <td>-0.036379</td>\n",
       "      <td>0.005199</td>\n",
       "      <td>0.090901</td>\n",
       "      <td>0.024139</td>\n",
       "      <td>0.214866</td>\n",
       "      <td>0.097789</td>\n",
       "      <td>0.000000</td>\n",
       "    </tr>\n",
       "    <tr>\n",
       "      <th>25%</th>\n",
       "      <td>125399.750000</td>\n",
       "      <td>0.344985</td>\n",
       "      <td>0.317363</td>\n",
       "      <td>0.326047</td>\n",
       "      <td>0.292249</td>\n",
       "      <td>0.279303</td>\n",
       "      <td>0.276442</td>\n",
       "      <td>0.323914</td>\n",
       "      <td>0.353054</td>\n",
       "      <td>0.358915</td>\n",
       "      <td>0.309934</td>\n",
       "      <td>0.368312</td>\n",
       "      <td>0.000000</td>\n",
       "    </tr>\n",
       "    <tr>\n",
       "      <th>50%</th>\n",
       "      <td>250192.500000</td>\n",
       "      <td>0.479650</td>\n",
       "      <td>0.463170</td>\n",
       "      <td>0.471247</td>\n",
       "      <td>0.387564</td>\n",
       "      <td>0.479858</td>\n",
       "      <td>0.554768</td>\n",
       "      <td>0.518089</td>\n",
       "      <td>0.435404</td>\n",
       "      <td>0.410908</td>\n",
       "      <td>0.407477</td>\n",
       "      <td>0.446576</td>\n",
       "      <td>0.000000</td>\n",
       "    </tr>\n",
       "    <tr>\n",
       "      <th>75%</th>\n",
       "      <td>375246.250000</td>\n",
       "      <td>0.637657</td>\n",
       "      <td>0.693992</td>\n",
       "      <td>0.704625</td>\n",
       "      <td>0.644950</td>\n",
       "      <td>0.725779</td>\n",
       "      <td>0.735225</td>\n",
       "      <td>0.608537</td>\n",
       "      <td>0.642023</td>\n",
       "      <td>0.612725</td>\n",
       "      <td>0.586793</td>\n",
       "      <td>0.581957</td>\n",
       "      <td>1.000000</td>\n",
       "    </tr>\n",
       "    <tr>\n",
       "      <th>max</th>\n",
       "      <td>499999.000000</td>\n",
       "      <td>1.004559</td>\n",
       "      <td>1.009958</td>\n",
       "      <td>1.016600</td>\n",
       "      <td>0.952187</td>\n",
       "      <td>0.858578</td>\n",
       "      <td>0.853022</td>\n",
       "      <td>0.966553</td>\n",
       "      <td>1.035818</td>\n",
       "      <td>1.055885</td>\n",
       "      <td>1.005652</td>\n",
       "      <td>1.011331</td>\n",
       "      <td>1.000000</td>\n",
       "    </tr>\n",
       "  </tbody>\n",
       "</table>\n",
       "</div>"
      ],
      "text/plain": [
       "                  id          cont0          cont1          cont2  \\\n",
       "count  300000.000000  300000.000000  300000.000000  300000.000000   \n",
       "mean   250183.425697       0.504749       0.494073       0.516632   \n",
       "std    144320.334812       0.206788       0.213037       0.214851   \n",
       "min         0.000000      -0.049562       0.084480       0.094493   \n",
       "25%    125399.750000       0.344985       0.317363       0.326047   \n",
       "50%    250192.500000       0.479650       0.463170       0.471247   \n",
       "75%    375246.250000       0.637657       0.693992       0.704625   \n",
       "max    499999.000000       1.004559       1.009958       1.016600   \n",
       "\n",
       "               cont3          cont4          cont5          cont6  \\\n",
       "count  300000.000000  300000.000000  300000.000000  300000.000000   \n",
       "mean        0.474235       0.504848       0.502257       0.488229   \n",
       "std         0.216636       0.227474       0.241243       0.211335   \n",
       "min        -0.045316       0.168071      -0.036379       0.005199   \n",
       "25%         0.292249       0.279303       0.276442       0.323914   \n",
       "50%         0.387564       0.479858       0.554768       0.518089   \n",
       "75%         0.644950       0.725779       0.735225       0.608537   \n",
       "max         0.952187       0.858578       0.853022       0.966553   \n",
       "\n",
       "               cont7          cont8          cont9         cont10  \\\n",
       "count  300000.000000  300000.000000  300000.000000  300000.000000   \n",
       "mean        0.501739       0.488074       0.469496       0.508230   \n",
       "std         0.203496       0.179048       0.194516       0.203393   \n",
       "min         0.090901       0.024139       0.214866       0.097789   \n",
       "25%         0.353054       0.358915       0.309934       0.368312   \n",
       "50%         0.435404       0.410908       0.407477       0.446576   \n",
       "75%         0.642023       0.612725       0.586793       0.581957   \n",
       "max         1.035818       1.055885       1.005652       1.011331   \n",
       "\n",
       "              target  \n",
       "count  300000.000000  \n",
       "mean        0.264870  \n",
       "std         0.441265  \n",
       "min         0.000000  \n",
       "25%         0.000000  \n",
       "50%         0.000000  \n",
       "75%         1.000000  \n",
       "max         1.000000  "
      ]
     },
     "execution_count": 6,
     "metadata": {},
     "output_type": "execute_result"
    }
   ],
   "source": [
    "df.describe()"
   ]
  },
  {
   "cell_type": "code",
   "execution_count": 7,
   "metadata": {},
   "outputs": [
    {
     "data": {
      "text/plain": [
       "id          int64\n",
       "cat0       object\n",
       "cat1       object\n",
       "cat2       object\n",
       "cat3       object\n",
       "cat4       object\n",
       "cat5       object\n",
       "cat6       object\n",
       "cat7       object\n",
       "cat8       object\n",
       "cat9       object\n",
       "cat10      object\n",
       "cat11      object\n",
       "cat12      object\n",
       "cat13      object\n",
       "cat14      object\n",
       "cat15      object\n",
       "cat16      object\n",
       "cat17      object\n",
       "cat18      object\n",
       "cont0     float64\n",
       "cont1     float64\n",
       "cont2     float64\n",
       "cont3     float64\n",
       "cont4     float64\n",
       "cont5     float64\n",
       "cont6     float64\n",
       "cont7     float64\n",
       "cont8     float64\n",
       "cont9     float64\n",
       "cont10    float64\n",
       "target      int64\n",
       "dtype: object"
      ]
     },
     "execution_count": 7,
     "metadata": {},
     "output_type": "execute_result"
    }
   ],
   "source": [
    "df.dtypes"
   ]
  },
  {
   "cell_type": "code",
   "execution_count": 8,
   "metadata": {},
   "outputs": [],
   "source": [
    "df_numeric = df.select_dtypes(include='float64')"
   ]
  },
  {
   "cell_type": "code",
   "execution_count": 9,
   "metadata": {},
   "outputs": [
    {
     "data": {
      "image/png": "[encoded data removed]",
      "text/plain": [
       "<Figure size 720x864 with 1 Axes>"
      ]
     },
     "metadata": {
      "needs_background": "light"
     },
     "output_type": "display_data"
    }
   ],
   "source": [
    "plt.figure(figsize=(10,12))\n",
    "sns.boxplot(data=df_numeric, orient='h', palette='Set2')\n",
    "plt.show()"
   ]
  },
  {
   "cell_type": "code",
   "execution_count": 10,
   "metadata": {},
   "outputs": [],
   "source": [
    "col_outlrs = ['cont8', 'cont9', 'cont10']"
   ]
  },
  {
   "cell_type": "code",
   "execution_count": 11,
   "metadata": {},
   "outputs": [],
   "source": [
    "for col in col_outlrs:\n",
    "    df = df[np.abs(stats.zscore(df[col]))<3]"
   ]
  },
  {
   "cell_type": "code",
   "execution_count": 12,
   "metadata": {},
   "outputs": [
    {
     "data": {
      "text/plain": [
       "id          int64\n",
       "cat0       object\n",
       "cat1       object\n",
       "cat2       object\n",
       "cat3       object\n",
       "cat4       object\n",
       "cat5       object\n",
       "cat6       object\n",
       "cat7       object\n",
       "cat8       object\n",
       "cat9       object\n",
       "cat10      object\n",
       "cat11      object\n",
       "cat12      object\n",
       "cat13      object\n",
       "cat14      object\n",
       "cat15      object\n",
       "cat16      object\n",
       "cat17      object\n",
       "cat18      object\n",
       "cont0     float64\n",
       "cont1     float64\n",
       "cont2     float64\n",
       "cont3     float64\n",
       "cont4     float64\n",
       "cont5     float64\n",
       "cont6     float64\n",
       "cont7     float64\n",
       "cont8     float64\n",
       "cont9     float64\n",
       "cont10    float64\n",
       "target      int64\n",
       "dtype: object"
      ]
     },
     "execution_count": 12,
     "metadata": {},
     "output_type": "execute_result"
    }
   ],
   "source": [
    "df.dtypes"
   ]
  },
  {
   "cell_type": "code",
   "execution_count": 13,
   "metadata": {},
   "outputs": [],
   "source": [
    "df_numeric = df.select_dtypes(include='float64')"
   ]
  },
  {
   "cell_type": "code",
   "execution_count": 14,
   "metadata": {},
   "outputs": [
    {
     "data": {
      "image/png": "[encoded data removed]",
      "text/plain": [
       "<Figure size 720x864 with 1 Axes>"
      ]
     },
     "metadata": {
      "needs_background": "light"
     },
     "output_type": "display_data"
    }
   ],
   "source": [
    "plt.figure(figsize=(10,12))\n",
    "sns.boxplot(data=df_numeric, orient='h', palette='Set2')\n",
    "plt.show()"
   ]
  },
  {
   "cell_type": "code",
   "execution_count": 15,
   "metadata": {},
   "outputs": [
    {
     "name": "stderr",
     "output_type": "stream",
     "text": [
      "/opt/anaconda3/envs/xgboost/lib/python3.7/site-packages/seaborn/distributions.py:2557: FutureWarning: `distplot` is a deprecated function and will be removed in a future version. Please adapt your code to use either `displot` (a figure-level function with similar flexibility) or `histplot` (an axes-level function for histograms).\n",
      "  warnings.warn(msg, FutureWarning)\n"
     ]
    },
    {
     "data": {
      "text/plain": [
       "<AxesSubplot:xlabel='target', ylabel='Density'>"
      ]
     },
     "execution_count": 15,
     "metadata": {},
     "output_type": "execute_result"
    },
    {
     "data": {
      "image/png": "[encoded data removed]",
      "text/plain": [
       "<Figure size 432x288 with 1 Axes>"
      ]
     },
     "metadata": {
      "needs_background": "light"
     },
     "output_type": "display_data"
    }
   ],
   "source": [
    "sns.distplot(df['target'])"
   ]
  },
  {
   "cell_type": "code",
   "execution_count": 16,
   "metadata": {},
   "outputs": [],
   "source": [
    "df_cat = df.select_dtypes(include='object')"
   ]
  },
  {
   "cell_type": "code",
   "execution_count": 17,
   "metadata": {},
   "outputs": [],
   "source": [
    "cat_cols = list(df_cat.columns)\n"
   ]
  },
  {
   "cell_type": "code",
   "execution_count": 18,
   "metadata": {},
   "outputs": [
    {
     "data": {
      "text/plain": [
       "array(['A', 'B'], dtype=object)"
      ]
     },
     "execution_count": 18,
     "metadata": {},
     "output_type": "execute_result"
    }
   ],
   "source": [
    "df['cat0'].unique()"
   ]
  },
  {
   "cell_type": "code",
   "execution_count": 19,
   "metadata": {},
   "outputs": [
    {
     "data": {
      "text/plain": [
       "array(['I', 'K', 'A', 'F', 'L', 'N', 'J', 'M', 'O', 'B', 'H', 'G', 'C',\n",
       "       'D', 'E'], dtype=object)"
      ]
     },
     "execution_count": 19,
     "metadata": {},
     "output_type": "execute_result"
    }
   ],
   "source": [
    "df['cat1'].unique()"
   ]
  },
  {
   "cell_type": "code",
   "execution_count": 20,
   "metadata": {},
   "outputs": [
    {
     "data": {
      "text/plain": [
       "array(['A', 'G', 'C', 'O', 'D', 'F', 'Q', 'J', 'L', 'I', 'M', 'H', 'U',\n",
       "       'N', 'R', 'E', 'K', 'S', 'B'], dtype=object)"
      ]
     },
     "execution_count": 20,
     "metadata": {},
     "output_type": "execute_result"
    }
   ],
   "source": [
    "df['cat2'].unique()"
   ]
  },
  {
   "cell_type": "code",
   "execution_count": 21,
   "metadata": {},
   "outputs": [
    {
     "data": {
      "text/plain": [
       "array(['B', 'A', 'C', 'D', 'G', 'N', 'H', 'F', 'E', 'K', 'I', 'J', 'L'],\n",
       "      dtype=object)"
      ]
     },
     "execution_count": 21,
     "metadata": {},
     "output_type": "execute_result"
    }
   ],
   "source": [
    "df['cat3'].unique()"
   ]
  },
  {
   "cell_type": "code",
   "execution_count": 22,
   "metadata": {},
   "outputs": [
    {
     "data": {
      "text/plain": [
       "array(['B', 'E', 'H', 'I', 'D', 'F', 'G', 'M', 'K', 'J', 'T', 'C', 'L',\n",
       "       'P', 'S', 'O', 'N', 'Q', 'A', 'R'], dtype=object)"
      ]
     },
     "execution_count": 22,
     "metadata": {},
     "output_type": "execute_result"
    }
   ],
   "source": [
    "df['cat4'].unique()"
   ]
  },
  {
   "cell_type": "code",
   "execution_count": 23,
   "metadata": {},
   "outputs": [
    {
     "data": {
      "text/plain": [
       "array(['BI', 'AB', 'BU', 'M', 'T', 'K', 'L', 'CG', 'BG', 'CI', 'N', 'G',\n",
       "       'X', 'Q', 'O', 'BO', 'BB', 'BX', 'AF', 'BA', 'BQ', 'CA', 'D', 'AQ',\n",
       "       'AS', 'AW', 'BE', 'CK', 'AL', 'BK', 'AT', 'CL', 'C', 'CF', 'I',\n",
       "       'AH', 'CD', 'AY', 'BY', 'F', 'AI', 'R', 'BC', 'BH', 'AA', 'V',\n",
       "       'CE', 'BD', 'AE', 'U', 'AU', 'AP', 'CJ', 'AN', 'AX', 'AR', 'BL',\n",
       "       'J', 'ZZ', 'BR', 'BV', 'H', 'A', 'CC', 'P', 'CH', 'BJ', 'CB', 'BS',\n",
       "       'BN', 'AO', 'AJ', 'BT', 'S', 'E', 'Y', 'AK', 'AM', 'B', 'BM', 'AV',\n",
       "       'AG', 'BF', 'BP'], dtype=object)"
      ]
     },
     "execution_count": 23,
     "metadata": {},
     "output_type": "execute_result"
    }
   ],
   "source": [
    "df['cat5'].unique()"
   ]
  },
  {
   "cell_type": "code",
   "execution_count": 24,
   "metadata": {},
   "outputs": [
    {
     "data": {
      "text/plain": [
       "array(['A', 'K', 'C', 'I', 'G', 'E', 'M', 'F', 'O', 'D', 'Q', 'S', 'B',\n",
       "       'Y', 'U', 'W'], dtype=object)"
      ]
     },
     "execution_count": 24,
     "metadata": {},
     "output_type": "execute_result"
    }
   ],
   "source": [
    "df['cat6'].unique()"
   ]
  },
  {
   "cell_type": "code",
   "execution_count": 25,
   "metadata": {},
   "outputs": [
    {
     "data": {
      "text/plain": [
       "array(['S', 'W', 'E', 'Y', 'G', 'AV', 'AF', 'AK', 'AH', 'AN', 'J', 'H',\n",
       "       'U', 'AG', 'AS', 'AA', 'B', 'F', 'AI', 'K', 'AD', 'D', 'N', 'I',\n",
       "       'AW', 'AY', 'AX', 'L', 'AL', 'C', 'R', 'P', 'AU', 'O', 'AR', 'AO',\n",
       "       'AE', 'AP', 'A', 'V', 'Q', 'AQ', 'X', 'BA', 'AM', 'AC', 'M', 'AT',\n",
       "       'T', 'AB', 'AJ'], dtype=object)"
      ]
     },
     "execution_count": 25,
     "metadata": {},
     "output_type": "execute_result"
    }
   ],
   "source": [
    "df['cat7'].unique()\n"
   ]
  },
  {
   "cell_type": "code",
   "execution_count": 26,
   "metadata": {},
   "outputs": [
    {
     "data": {
      "text/plain": [
       "array(['Q', 'AD', 'BM', 'Y', 'AG', 'AE', 'AX', 'H', 'BD', 'AO', 'X', 'L',\n",
       "       'M', 'AT', 'BH', 'J', 'AU', 'AF', 'S', 'BO', 'N', 'AN', 'BC', 'AS',\n",
       "       'K', 'AW', 'I', 'BJ', 'F', 'A', 'AJ', 'AK', 'BL', 'AL', 'AY', 'BN',\n",
       "       'AM', 'AV', 'U', 'BI', 'BK', 'AP', 'P', 'E', 'BG', 'O', 'C', 'AI',\n",
       "       'BB', 'G', 'AH', 'BA', 'V', 'B', 'BF', 'BE', 'AQ', 'AC', 'AB',\n",
       "       'AR', 'T'], dtype=object)"
      ]
     },
     "execution_count": 26,
     "metadata": {},
     "output_type": "execute_result"
    }
   ],
   "source": [
    "df['cat8'].unique()"
   ]
  },
  {
   "cell_type": "code",
   "execution_count": 27,
   "metadata": {},
   "outputs": [
    {
     "data": {
      "text/plain": [
       "array(['A', 'F', 'L', 'C', 'E', 'I', 'J', 'N', 'V', 'R', 'D', 'X', 'B',\n",
       "       'Q', 'W', 'G', 'O', 'U', 'S'], dtype=object)"
      ]
     },
     "execution_count": 27,
     "metadata": {},
     "output_type": "execute_result"
    }
   ],
   "source": [
    "df['cat9'].unique()"
   ]
  },
  {
   "cell_type": "code",
   "execution_count": 28,
   "metadata": {
    "scrolled": true
   },
   "outputs": [
    {
     "data": {
      "text/plain": [
       "array(['LO', 'HJ', 'DJ', 'KV', 'DP', 'GE', 'HQ', 'HC', 'EK', 'GS', 'HG',\n",
       "       'BY', 'HX', 'JK', 'FJ', 'LM', 'HK', 'MD', 'IG', 'JG', 'AN', 'AD',\n",
       "       'MC', 'KW', 'CK', 'LF', 'CS', 'GK', 'DC', 'LB', 'FM', 'IH', 'LN',\n",
       "       'IK', 'DF', 'IB', 'CB', 'LY', 'JW', 'FI', 'CR', 'IE', 'LE', 'HB',\n",
       "       'HV', 'LG', 'BG', 'KP', 'LI', 'HL', 'BF', 'LU', 'O', 'GI', 'DQ',\n",
       "       'IR', 'DV', 'HA', 'KB', 'FP', 'AT', 'IF', 'HN', 'GC', 'C', 'KC',\n",
       "       'G', 'JA', 'CU', 'BC', 'AB', 'KF', 'MB', 'HE', 'BL', 'FQ', 'IA',\n",
       "       'MJ', 'FO', 'V', 'JT', 'AU', 'IO', 'GQ', 'CC', 'JR', 'BM', 'HH',\n",
       "       'AV', 'GT', 'I', 'IU', 'JN', 'EV', 'MV', 'EQ', 'LW', 'FN', 'IT',\n",
       "       'AA', 'DK', 'IJ', 'GU', 'P', 'JH', 'CM', 'GA', 'R', 'LX', 'IX',\n",
       "       'DY', 'D', 'FL', 'CP', 'GL', 'DI', 'CD', 'IV', 'FS', 'FR', 'J',\n",
       "       'MP', 'MH', 'EL', 'JD', 'AP', 'AE', 'F', 'LC', 'BP', 'BI', 'MF',\n",
       "       'DO', 'MG', 'MT', 'LD', 'CW', 'KS', 'BV', 'JV', 'BB', 'AM', 'KX',\n",
       "       'FK', 'AH', 'LV', 'W', 'DU', 'FB', 'JX', 'KA', 'CO', 'AR', 'KR',\n",
       "       'JI', 'T', 'JP', 'LQ', 'FX', 'FD', 'EY', 'Y', 'JO', 'EC', 'HM',\n",
       "       'AC', 'DW', 'HU', 'FH', 'AY', 'AL', 'GD', 'GB', 'DS', 'FT', 'KH',\n",
       "       'CG', 'JB', 'E', 'CN', 'BT', 'X', 'BX', 'HW', 'EI', 'ID', 'KT',\n",
       "       'GR', 'L', 'KG', 'EA', 'HO', 'GX', 'K', 'AS', 'DM', 'AK', 'FC',\n",
       "       'MS', 'HR', 'EU', 'ES', 'JY', 'HP', 'KL', 'FE', 'CY', 'EO', 'KJ',\n",
       "       'CJ', 'CI', 'JL', 'IC', 'S', 'DH', 'GN', 'BS', 'AG', 'M', 'EW',\n",
       "       'FA', 'LJ', 'GJ', 'KQ', 'HF', 'MR', 'BQ', 'ED', 'FG', 'LL', 'EG',\n",
       "       'HY', 'EH', 'GW', 'BD', 'IQ', 'Q', 'DA', 'DD', 'GM', 'KN', 'MQ',\n",
       "       'GY', 'KD', 'JJ', 'CL', 'IY', 'KU', 'CT', 'KK', 'DN', 'BO', 'IP',\n",
       "       'LH', 'IM', 'DE', 'ME', 'EE', 'LT', 'LR', 'MI', 'CF', 'DR', 'EB',\n",
       "       'KI', 'DX', 'DL', 'MW', 'FF', 'EF', 'EP', 'MU', 'MA', 'GG', 'CQ',\n",
       "       'DT', 'FV', 'CH', 'AF', 'AJ', 'IN', 'JC', 'EN', 'JU', 'JE', 'ML',\n",
       "       'AW', 'HI', 'MO', 'GF', 'MK', 'GH', 'FW', 'GV', 'JF', 'BA', 'LK',\n",
       "       'IL', 'CX'], dtype=object)"
      ]
     },
     "execution_count": 28,
     "metadata": {},
     "output_type": "execute_result"
    }
   ],
   "source": [
    "df['cat10'].unique()"
   ]
  },
  {
   "cell_type": "code",
   "execution_count": 29,
   "metadata": {},
   "outputs": [
    {
     "data": {
      "text/plain": [
       "array(['A', 'B'], dtype=object)"
      ]
     },
     "execution_count": 29,
     "metadata": {},
     "output_type": "execute_result"
    }
   ],
   "source": [
    "df['cat11'].unique()"
   ]
  },
  {
   "cell_type": "code",
   "execution_count": 30,
   "metadata": {},
   "outputs": [
    {
     "data": {
      "text/plain": [
       "array(['A', 'B'], dtype=object)"
      ]
     },
     "execution_count": 30,
     "metadata": {},
     "output_type": "execute_result"
    }
   ],
   "source": [
    "df['cat12'].unique()"
   ]
  },
  {
   "cell_type": "code",
   "execution_count": 31,
   "metadata": {},
   "outputs": [
    {
     "data": {
      "text/plain": [
       "array(['A', 'B'], dtype=object)"
      ]
     },
     "execution_count": 31,
     "metadata": {},
     "output_type": "execute_result"
    }
   ],
   "source": [
    "df['cat13'].unique()"
   ]
  },
  {
   "cell_type": "code",
   "execution_count": 32,
   "metadata": {},
   "outputs": [
    {
     "data": {
      "text/plain": [
       "array(['A', 'B'], dtype=object)"
      ]
     },
     "execution_count": 32,
     "metadata": {},
     "output_type": "execute_result"
    }
   ],
   "source": [
    "df['cat14'].unique()"
   ]
  },
  {
   "cell_type": "code",
   "execution_count": 33,
   "metadata": {},
   "outputs": [
    {
     "data": {
      "text/plain": [
       "array(['B', 'D', 'A', 'C'], dtype=object)"
      ]
     },
     "execution_count": 33,
     "metadata": {},
     "output_type": "execute_result"
    }
   ],
   "source": [
    "df['cat15'].unique()"
   ]
  },
  {
   "cell_type": "code",
   "execution_count": 34,
   "metadata": {},
   "outputs": [
    {
     "data": {
      "text/plain": [
       "array(['D', 'B', 'C', 'A'], dtype=object)"
      ]
     },
     "execution_count": 34,
     "metadata": {},
     "output_type": "execute_result"
    }
   ],
   "source": [
    "df['cat16'].unique()"
   ]
  },
  {
   "cell_type": "code",
   "execution_count": 35,
   "metadata": {},
   "outputs": [
    {
     "data": {
      "text/plain": [
       "array(['D', 'C', 'B', 'A'], dtype=object)"
      ]
     },
     "execution_count": 35,
     "metadata": {},
     "output_type": "execute_result"
    }
   ],
   "source": [
    "df['cat17'].unique()"
   ]
  },
  {
   "cell_type": "code",
   "execution_count": 36,
   "metadata": {},
   "outputs": [
    {
     "data": {
      "text/plain": [
       "array(['B', 'C', 'D', 'A'], dtype=object)"
      ]
     },
     "execution_count": 36,
     "metadata": {},
     "output_type": "execute_result"
    }
   ],
   "source": [
    "df['cat18'].unique()"
   ]
  },
  {
   "cell_type": "code",
   "execution_count": 37,
   "metadata": {},
   "outputs": [],
   "source": [
    "df = pd.get_dummies(df, drop_first=True, columns=cat_cols)"
   ]
  },
  {
   "cell_type": "code",
   "execution_count": 38,
   "metadata": {},
   "outputs": [
    {
     "data": {
      "text/html": [
       "<div>\n",
       "<style scoped>\n",
       "    .dataframe tbody tr th:only-of-type {\n",
       "        vertical-align: middle;\n",
       "    }\n",
       "\n",
       "    .dataframe tbody tr th {\n",
       "        vertical-align: top;\n",
       "    }\n",
       "\n",
       "    .dataframe thead th {\n",
       "        text-align: right;\n",
       "    }\n",
       "</style>\n",
       "<table border=\"1\" class=\"dataframe\">\n",
       "  <thead>\n",
       "    <tr style=\"text-align: right;\">\n",
       "      <th></th>\n",
       "      <th>id</th>\n",
       "      <th>cont0</th>\n",
       "      <th>cont1</th>\n",
       "      <th>cont2</th>\n",
       "      <th>cont3</th>\n",
       "      <th>cont4</th>\n",
       "      <th>cont5</th>\n",
       "      <th>cont6</th>\n",
       "      <th>cont7</th>\n",
       "      <th>cont8</th>\n",
       "      <th>...</th>\n",
       "      <th>cat15_D</th>\n",
       "      <th>cat16_B</th>\n",
       "      <th>cat16_C</th>\n",
       "      <th>cat16_D</th>\n",
       "      <th>cat17_B</th>\n",
       "      <th>cat17_C</th>\n",
       "      <th>cat17_D</th>\n",
       "      <th>cat18_B</th>\n",
       "      <th>cat18_C</th>\n",
       "      <th>cat18_D</th>\n",
       "    </tr>\n",
       "  </thead>\n",
       "  <tbody>\n",
       "    <tr>\n",
       "      <th>0</th>\n",
       "      <td>0</td>\n",
       "      <td>0.629858</td>\n",
       "      <td>0.855349</td>\n",
       "      <td>0.759439</td>\n",
       "      <td>0.795549</td>\n",
       "      <td>0.681917</td>\n",
       "      <td>0.621672</td>\n",
       "      <td>0.592184</td>\n",
       "      <td>0.791921</td>\n",
       "      <td>0.815254</td>\n",
       "      <td>...</td>\n",
       "      <td>0</td>\n",
       "      <td>0</td>\n",
       "      <td>0</td>\n",
       "      <td>1</td>\n",
       "      <td>0</td>\n",
       "      <td>0</td>\n",
       "      <td>1</td>\n",
       "      <td>1</td>\n",
       "      <td>0</td>\n",
       "      <td>0</td>\n",
       "    </tr>\n",
       "    <tr>\n",
       "      <th>1</th>\n",
       "      <td>1</td>\n",
       "      <td>0.370727</td>\n",
       "      <td>0.328929</td>\n",
       "      <td>0.386385</td>\n",
       "      <td>0.541366</td>\n",
       "      <td>0.388982</td>\n",
       "      <td>0.357778</td>\n",
       "      <td>0.600044</td>\n",
       "      <td>0.408701</td>\n",
       "      <td>0.399353</td>\n",
       "      <td>...</td>\n",
       "      <td>1</td>\n",
       "      <td>1</td>\n",
       "      <td>0</td>\n",
       "      <td>0</td>\n",
       "      <td>0</td>\n",
       "      <td>0</td>\n",
       "      <td>1</td>\n",
       "      <td>1</td>\n",
       "      <td>0</td>\n",
       "      <td>0</td>\n",
       "    </tr>\n",
       "    <tr>\n",
       "      <th>2</th>\n",
       "      <td>2</td>\n",
       "      <td>0.502272</td>\n",
       "      <td>0.322749</td>\n",
       "      <td>0.343255</td>\n",
       "      <td>0.616352</td>\n",
       "      <td>0.793687</td>\n",
       "      <td>0.552877</td>\n",
       "      <td>0.352113</td>\n",
       "      <td>0.388835</td>\n",
       "      <td>0.412303</td>\n",
       "      <td>...</td>\n",
       "      <td>0</td>\n",
       "      <td>0</td>\n",
       "      <td>0</td>\n",
       "      <td>1</td>\n",
       "      <td>0</td>\n",
       "      <td>0</td>\n",
       "      <td>1</td>\n",
       "      <td>1</td>\n",
       "      <td>0</td>\n",
       "      <td>0</td>\n",
       "    </tr>\n",
       "    <tr>\n",
       "      <th>3</th>\n",
       "      <td>3</td>\n",
       "      <td>0.934242</td>\n",
       "      <td>0.707663</td>\n",
       "      <td>0.831147</td>\n",
       "      <td>0.807807</td>\n",
       "      <td>0.800032</td>\n",
       "      <td>0.619147</td>\n",
       "      <td>0.221789</td>\n",
       "      <td>0.897617</td>\n",
       "      <td>0.633669</td>\n",
       "      <td>...</td>\n",
       "      <td>0</td>\n",
       "      <td>0</td>\n",
       "      <td>0</td>\n",
       "      <td>1</td>\n",
       "      <td>0</td>\n",
       "      <td>0</td>\n",
       "      <td>1</td>\n",
       "      <td>1</td>\n",
       "      <td>0</td>\n",
       "      <td>0</td>\n",
       "    </tr>\n",
       "    <tr>\n",
       "      <th>4</th>\n",
       "      <td>4</td>\n",
       "      <td>0.254427</td>\n",
       "      <td>0.274514</td>\n",
       "      <td>0.338818</td>\n",
       "      <td>0.277308</td>\n",
       "      <td>0.610578</td>\n",
       "      <td>0.128291</td>\n",
       "      <td>0.578764</td>\n",
       "      <td>0.279167</td>\n",
       "      <td>0.351103</td>\n",
       "      <td>...</td>\n",
       "      <td>0</td>\n",
       "      <td>1</td>\n",
       "      <td>0</td>\n",
       "      <td>0</td>\n",
       "      <td>0</td>\n",
       "      <td>0</td>\n",
       "      <td>1</td>\n",
       "      <td>1</td>\n",
       "      <td>0</td>\n",
       "      <td>0</td>\n",
       "    </tr>\n",
       "  </tbody>\n",
       "</table>\n",
       "<p>5 rows × 617 columns</p>\n",
       "</div>"
      ],
      "text/plain": [
       "   id     cont0     cont1     cont2     cont3     cont4     cont5     cont6  \\\n",
       "0   0  0.629858  0.855349  0.759439  0.795549  0.681917  0.621672  0.592184   \n",
       "1   1  0.370727  0.328929  0.386385  0.541366  0.388982  0.357778  0.600044   \n",
       "2   2  0.502272  0.322749  0.343255  0.616352  0.793687  0.552877  0.352113   \n",
       "3   3  0.934242  0.707663  0.831147  0.807807  0.800032  0.619147  0.221789   \n",
       "4   4  0.254427  0.274514  0.338818  0.277308  0.610578  0.128291  0.578764   \n",
       "\n",
       "      cont7     cont8  ...  cat15_D  cat16_B  cat16_C  cat16_D  cat17_B  \\\n",
       "0  0.791921  0.815254  ...        0        0        0        1        0   \n",
       "1  0.408701  0.399353  ...        1        1        0        0        0   \n",
       "2  0.388835  0.412303  ...        0        0        0        1        0   \n",
       "3  0.897617  0.633669  ...        0        0        0        1        0   \n",
       "4  0.279167  0.351103  ...        0        1        0        0        0   \n",
       "\n",
       "   cat17_C  cat17_D  cat18_B  cat18_C  cat18_D  \n",
       "0        0        1        1        0        0  \n",
       "1        0        1        1        0        0  \n",
       "2        0        1        1        0        0  \n",
       "3        0        1        1        0        0  \n",
       "4        0        1        1        0        0  \n",
       "\n",
       "[5 rows x 617 columns]"
      ]
     },
     "execution_count": 38,
     "metadata": {},
     "output_type": "execute_result"
    }
   ],
   "source": [
    "df.head()"
   ]
  },
  {
   "cell_type": "code",
   "execution_count": 39,
   "metadata": {},
   "outputs": [],
   "source": [
    "cols=list(df.columns)\n"
   ]
  },
  {
   "cell_type": "code",
   "execution_count": 40,
   "metadata": {},
   "outputs": [
    {
     "data": {
      "text/plain": [
       "id           int64\n",
       "cont0      float64\n",
       "cont1      float64\n",
       "cont2      float64\n",
       "cont3      float64\n",
       "            ...   \n",
       "cat17_C      uint8\n",
       "cat17_D      uint8\n",
       "cat18_B      uint8\n",
       "cat18_C      uint8\n",
       "cat18_D      uint8\n",
       "Length: 617, dtype: object"
      ]
     },
     "execution_count": 40,
     "metadata": {},
     "output_type": "execute_result"
    }
   ],
   "source": [
    "df.dtypes"
   ]
  },
  {
   "cell_type": "code",
   "execution_count": 41,
   "metadata": {},
   "outputs": [],
   "source": [
    "y = df['target']"
   ]
  },
  {
   "cell_type": "code",
   "execution_count": 42,
   "metadata": {},
   "outputs": [],
   "source": [
    "X = df.drop(['id','target'],axis=1)"
   ]
  },
  {
   "cell_type": "code",
   "execution_count": 113,
   "metadata": {},
   "outputs": [
    {
     "data": {
      "text/plain": [
       "Index(['cont0', 'cont1', 'cont2', 'cont3', 'cont4', 'cont5', 'cont6', 'cont7',\n",
       "       'cont8', 'cont9',\n",
       "       ...\n",
       "       'cat15_D', 'cat16_B', 'cat16_C', 'cat16_D', 'cat17_B', 'cat17_C',\n",
       "       'cat17_D', 'cat18_B', 'cat18_C', 'cat18_D'],\n",
       "      dtype='object', length=615)"
      ]
     },
     "execution_count": 113,
     "metadata": {},
     "output_type": "execute_result"
    }
   ],
   "source": [
    "X.columns"
   ]
  },
  {
   "cell_type": "code",
   "execution_count": 43,
   "metadata": {},
   "outputs": [],
   "source": [
    "from sklearn.model_selection import train_test_split"
   ]
  },
  {
   "cell_type": "code",
   "execution_count": 44,
   "metadata": {},
   "outputs": [],
   "source": [
    "X_train, X_test, y_train, y_test = train_test_split(X, y, test_size = 0.3, random_state=100)"
   ]
  },
  {
   "cell_type": "code",
   "execution_count": 45,
   "metadata": {},
   "outputs": [],
   "source": [
    "from xgboost import XGBClassifier"
   ]
  },
  {
   "cell_type": "code",
   "execution_count": 46,
   "metadata": {},
   "outputs": [],
   "source": [
    "xgb = XGBClassifier()"
   ]
  },
  {
   "cell_type": "code",
   "execution_count": 47,
   "metadata": {},
   "outputs": [
    {
     "data": {
      "text/plain": [
       "XGBClassifier()"
      ]
     },
     "execution_count": 47,
     "metadata": {},
     "output_type": "execute_result"
    }
   ],
   "source": [
    "xgb.fit(X_train, y_train)"
   ]
  },
  {
   "cell_type": "code",
   "execution_count": 48,
   "metadata": {},
   "outputs": [],
   "source": [
    "from sklearn.metrics import confusion_matrix"
   ]
  },
  {
   "cell_type": "code",
   "execution_count": 49,
   "metadata": {},
   "outputs": [
    {
     "name": "stdout",
     "output_type": "stream",
     "text": [
      "[[61670  4482]\n",
      " [ 9642 14165]]\n"
     ]
    }
   ],
   "source": [
    "print(confusion_matrix(y_test, xgb.predict(X_test)))"
   ]
  },
  {
   "cell_type": "code",
   "execution_count": 50,
   "metadata": {},
   "outputs": [],
   "source": [
    "from sklearn.model_selection import GridSearchCV\n",
    "from sklearn.metrics import accuracy_score"
   ]
  },
  {
   "cell_type": "code",
   "execution_count": 51,
   "metadata": {},
   "outputs": [
    {
     "name": "stdout",
     "output_type": "stream",
     "text": [
      "WARN: OMP_NUM_THREADS=None =>\n",
      "... If you are using openblas if you are using openblas set OMP_NUM_THREADS=1 or risk subprocess calls hanging indefinitely\n"
     ]
    }
   ],
   "source": [
    "from hpsklearn import HyperoptEstimator\n",
    "from hyperopt import hp\n",
    "from hyperopt import STATUS_OK, Trials, fmin, tpe"
   ]
  },
  {
   "cell_type": "code",
   "execution_count": 52,
   "metadata": {},
   "outputs": [],
   "source": [
    "space={'max_depth': hp.quniform(\"max_depth\", 3, 9, 1),\n",
    "        'gamma': hp.uniform ('gamma', 1,9),\n",
    "        'alpha' : hp.quniform('alpha', 40,100,1),\n",
    "        'lambda' : hp.uniform('lambda', 0,1),\n",
    "        'colsample_bytree' : hp.uniform('colsample_bytree', 0.5,1),\n",
    "        'min_child_weight' : hp.quniform('min_child_weight', 0, 10, 1),\n",
    "        'n_estimators': hp.uniformint('n_estimators',200,300),\n",
    "        'seed': 0\n",
    "    }"
   ]
  },
  {
   "cell_type": "code",
   "execution_count": 53,
   "metadata": {},
   "outputs": [],
   "source": [
    "def objective(space):\n",
    "    clf=XGBClassifier(\n",
    "                    n_estimators =space['n_estimators'], max_depth = int(space['max_depth']), gamma = space['gamma'],\n",
    "                    alpha = int(space['alpha']),min_child_weight=int(space['min_child_weight']),\n",
    "                    colsample_bytree=int(space['colsample_bytree']))\n",
    "    \n",
    "    evaluation = [( X_train, y_train), ( X_test, y_test)]\n",
    "    \n",
    "    clf.fit(X_train, y_train,\n",
    "            eval_set=evaluation, eval_metric=\"auc\",\n",
    "            early_stopping_rounds=10,verbose=False)\n",
    "    \n",
    "\n",
    "    pred = clf.predict(X_test)\n",
    "    accuracy = accuracy_score(y_test, pred>0.5)\n",
    "    print (\"SCORE:\", accuracy)\n",
    "    return {'loss': -accuracy, 'status': STATUS_OK }"
   ]
  },
  {
   "cell_type": "code",
   "execution_count": 54,
   "metadata": {},
   "outputs": [
    {
     "name": "stdout",
     "output_type": "stream",
     "text": [
      "SCORE:                                                \n",
      "0.7353572182883313                                    \n",
      "SCORE:                                                                              \n",
      "0.7353572182883313                                                                  \n",
      "SCORE:                                                                              \n",
      "0.7353572182883313                                                                  \n",
      "SCORE:                                                                              \n",
      "0.7353572182883313                                                                  \n",
      "SCORE:                                                                              \n",
      "0.7353572182883313                                                                  \n",
      "SCORE:                                                                              \n",
      "0.7353572182883313                                                                  \n",
      "SCORE:                                                                              \n",
      "0.7353572182883313                                                                  \n",
      "SCORE:                                                                                 \n",
      "0.7353572182883313                                                                     \n",
      "SCORE:                                                                                 \n",
      "0.7353572182883313                                                                     \n",
      "SCORE:                                                                                 \n",
      "0.7353572182883313                                                                     \n",
      "SCORE:                                                                                 \n",
      "0.7353572182883313                                                                     \n",
      "SCORE:                                                                                 \n",
      "0.7353572182883313                                                                   \n",
      "SCORE:                                                                               \n",
      "0.7353572182883313                                                                   \n",
      "SCORE:                                                                               \n",
      "0.7353572182883313                                                                   \n",
      "SCORE:                                                                               \n",
      "0.7353572182883313                                                                   \n",
      "100%|██████████| 15/15 [3:04:43<00:00, 738.91s/trial, best loss: -0.7353572182883313]\n"
     ]
    }
   ],
   "source": [
    "trials = Trials()\n",
    "\n",
    "best_hyperparams = fmin(fn = objective,\n",
    "                        space = space,\n",
    "                        algo = tpe.suggest,\n",
    "                        max_evals = 15,\n",
    "                        trials = trials)"
   ]
  },
  {
   "cell_type": "code",
   "execution_count": 55,
   "metadata": {},
   "outputs": [
    {
     "name": "stdout",
     "output_type": "stream",
     "text": [
      "best hyperparameters: {'alpha': 56.0, 'colsample_bytree': 0.7314402397659132, 'gamma': 4.857370789764574, 'lambda': 0.9409779444844149, 'max_depth': 5.0, 'min_child_weight': 5.0, 'n_estimators': 273.0}\n"
     ]
    }
   ],
   "source": [
    "print('best hyperparameters:',best_hyperparams)"
   ]
  },
  {
   "cell_type": "code",
   "execution_count": 56,
   "metadata": {},
   "outputs": [],
   "source": [
    "model_init = XGBClassifier(parameters=best_hyperparams)"
   ]
  },
  {
   "cell_type": "code",
   "execution_count": 57,
   "metadata": {},
   "outputs": [
    {
     "data": {
      "text/plain": [
       "XGBClassifier(parameters={'alpha': 56.0, 'colsample_bytree': 0.7314402397659132,\n",
       "                          'gamma': 4.857370789764574,\n",
       "                          'lambda': 0.9409779444844149, 'max_depth': 5.0,\n",
       "                          'min_child_weight': 5.0, 'n_estimators': 273.0})"
      ]
     },
     "execution_count": 57,
     "metadata": {},
     "output_type": "execute_result"
    }
   ],
   "source": [
    "model_init.fit(X_train, y_train)"
   ]
  },
  {
   "cell_type": "code",
   "execution_count": 58,
   "metadata": {},
   "outputs": [],
   "source": [
    "init_pred_prob = model_init.predict_proba(X_test)"
   ]
  },
  {
   "cell_type": "code",
   "execution_count": 59,
   "metadata": {},
   "outputs": [],
   "source": [
    "from sklearn.metrics import roc_auc_score"
   ]
  },
  {
   "cell_type": "code",
   "execution_count": 60,
   "metadata": {},
   "outputs": [
    {
     "name": "stdout",
     "output_type": "stream",
     "text": [
      "initial auc score 0.8794897725660311\n"
     ]
    }
   ],
   "source": [
    "print('initial auc score',roc_auc_score(y_test, init_pred_prob[:,1]))"
   ]
  },
  {
   "cell_type": "code",
   "execution_count": 61,
   "metadata": {},
   "outputs": [],
   "source": [
    "from sklearn.metrics import f1_score"
   ]
  },
  {
   "cell_type": "code",
   "execution_count": 62,
   "metadata": {},
   "outputs": [],
   "source": [
    "y_pred_init = model_init.predict(X_test)"
   ]
  },
  {
   "cell_type": "code",
   "execution_count": 63,
   "metadata": {},
   "outputs": [
    {
     "name": "stdout",
     "output_type": "stream",
     "text": [
      "F-1 score: 0.6673105007773119\n"
     ]
    }
   ],
   "source": [
    "print('F-1 score:',f1_score(y_test, y_pred_init))"
   ]
  },
  {
   "cell_type": "code",
   "execution_count": 64,
   "metadata": {},
   "outputs": [],
   "source": [
    "from imblearn.over_sampling import SMOTE"
   ]
  },
  {
   "cell_type": "code",
   "execution_count": 65,
   "metadata": {},
   "outputs": [],
   "source": [
    "oversample = SMOTE()"
   ]
  },
  {
   "cell_type": "code",
   "execution_count": 66,
   "metadata": {},
   "outputs": [],
   "source": [
    "X_ovr, y_ovr = oversample.fit_resample(X,y)"
   ]
  },
  {
   "cell_type": "code",
   "execution_count": 67,
   "metadata": {},
   "outputs": [],
   "source": [
    "X_ovr_train, X_ovr_test, y_ovr_train, y_ovr_test = train_test_split(X_ovr, y_ovr, test_size = 0.3, random_state = 100)"
   ]
  },
  {
   "cell_type": "code",
   "execution_count": 70,
   "metadata": {},
   "outputs": [],
   "source": [
    "def objective_ovr(space):\n",
    "    clfo=XGBClassifier(\n",
    "                    n_estimators =space['n_estimators'], max_depth = int(space['max_depth']), gamma = space['gamma'],\n",
    "                    alpha = int(space['alpha']),min_child_weight=int(space['min_child_weight']),\n",
    "                    colsample_bytree=int(space['colsample_bytree']))\n",
    "    \n",
    "    evaluation = [( X_ovr_train, y_ovr_train), ( X_ovr_test, y_ovr_test)]\n",
    "    \n",
    "    clfo.fit(X_ovr_train, y_ovr_train,\n",
    "            eval_set=evaluation, eval_metric=\"auc\",\n",
    "            early_stopping_rounds=10,verbose=False)\n",
    "    \n",
    "\n",
    "    pred = clfo.predict(X_ovr_test)\n",
    "    accuracy = accuracy_score(y_ovr_test, pred>0.5)\n",
    "    print (\"SCORE:\", accuracy)\n",
    "    return {'loss': -accuracy, 'status': STATUS_OK }"
   ]
  },
  {
   "cell_type": "code",
   "execution_count": 71,
   "metadata": {},
   "outputs": [
    {
     "name": "stdout",
     "output_type": "stream",
     "text": [
      "SCORE:                                                \n",
      "0.7055413637256829                                    \n",
      "SCORE:                                                                              \n",
      "0.7071965173753344                                                                  \n",
      "SCORE:                                                                              \n",
      "0.7055338059464606                                                                  \n",
      "SCORE:                                                                              \n",
      "0.6957464818537721                                                                  \n",
      "SCORE:                                                                              \n",
      "0.7057605393231253                                                                \n",
      "SCORE:                                                                            \n",
      "0.7070982662454465                                                                \n",
      "SCORE:                                                                            \n",
      "0.7054884592711278                                                                  \n",
      "SCORE:                                                                              \n",
      "0.7041582901280288                                                                  \n",
      "SCORE:                                                                              \n",
      "0.69573892407455                                                                    \n",
      "SCORE:                                                                              \n",
      "0.6957464818537721                                                                  \n",
      "100%|██████████| 10/10 [1:46:14<00:00, 637.46s/trial, best loss: -0.7071965173753344]\n"
     ]
    }
   ],
   "source": [
    "trials = Trials()\n",
    "\n",
    "best_hyperparams_ovr = fmin(fn = objective_ovr,\n",
    "                        space = space,\n",
    "                        algo = tpe.suggest,\n",
    "                        max_evals = 10,\n",
    "                        trials = trials)"
   ]
  },
  {
   "cell_type": "code",
   "execution_count": 72,
   "metadata": {},
   "outputs": [
    {
     "name": "stdout",
     "output_type": "stream",
     "text": [
      "Best parameters for the oversampled model: {'alpha': 87.0, 'colsample_bytree': 0.8865515228373997, 'gamma': 5.828047782132678, 'lambda': 0.3213044077008058, 'max_depth': 7.0, 'min_child_weight': 3.0, 'n_estimators': 238.0}\n"
     ]
    }
   ],
   "source": [
    "print('Best parameters for the oversampled model:', best_hyperparams_ovr)"
   ]
  },
  {
   "cell_type": "code",
   "execution_count": 73,
   "metadata": {},
   "outputs": [],
   "source": [
    "over_sampled_model = XGBClassifier(parameters=best_hyperparams_ovr)"
   ]
  },
  {
   "cell_type": "code",
   "execution_count": 74,
   "metadata": {},
   "outputs": [
    {
     "data": {
      "text/plain": [
       "XGBClassifier(parameters={'alpha': 87.0, 'colsample_bytree': 0.8865515228373997,\n",
       "                          'gamma': 5.828047782132678,\n",
       "                          'lambda': 0.3213044077008058, 'max_depth': 7.0,\n",
       "                          'min_child_weight': 3.0, 'n_estimators': 238.0})"
      ]
     },
     "execution_count": 74,
     "metadata": {},
     "output_type": "execute_result"
    }
   ],
   "source": [
    "over_sampled_model.fit(X_ovr_train, y_ovr_train)"
   ]
  },
  {
   "cell_type": "code",
   "execution_count": 75,
   "metadata": {},
   "outputs": [],
   "source": [
    "y_pred_OvrSamp = over_sampled_model.predict(X_ovr_test)"
   ]
  },
  {
   "cell_type": "code",
   "execution_count": 76,
   "metadata": {},
   "outputs": [],
   "source": [
    "pred_prob_OvrSampl = over_sampled_model.predict_proba(X_ovr_test)"
   ]
  },
  {
   "cell_type": "code",
   "execution_count": 78,
   "metadata": {},
   "outputs": [
    {
     "name": "stdout",
     "output_type": "stream",
     "text": [
      "AUC score ovr: 0.9007917034504408\n"
     ]
    }
   ],
   "source": [
    "print('AUC score ovr:', roc_auc_score(y_ovr_test, pred_prob_OvrSampl[:,1]))"
   ]
  },
  {
   "cell_type": "code",
   "execution_count": 79,
   "metadata": {},
   "outputs": [
    {
     "name": "stdout",
     "output_type": "stream",
     "text": [
      "F1 score oversampled model: 0.8178409406536432\n"
     ]
    }
   ],
   "source": [
    "print('F1 score oversampled model:', f1_score(y_ovr_test, y_pred_OvrSamp))"
   ]
  },
  {
   "cell_type": "code",
   "execution_count": 80,
   "metadata": {},
   "outputs": [],
   "source": [
    "from sklearn.metrics import roc_curve"
   ]
  },
  {
   "cell_type": "code",
   "execution_count": 81,
   "metadata": {},
   "outputs": [],
   "source": [
    "fpr, tpr, thrshld = roc_curve(y_ovr_test, pred_prob_OvrSampl[:,1])"
   ]
  },
  {
   "cell_type": "code",
   "execution_count": 82,
   "metadata": {},
   "outputs": [
    {
     "data": {
      "image/png": "[encoded data removed]",
      "text/plain": [
       "<Figure size 576x576 with 1 Axes>"
      ]
     },
     "metadata": {
      "needs_background": "light"
     },
     "output_type": "display_data"
    }
   ],
   "source": [
    "plt.figure(figsize=(8,8))\n",
    "plt.title('ROC Curve')\n",
    "plt.plot(fpr, tpr)\n",
    "plt.plot([0,1],ls='--')\n",
    "plt.xlabel('False Positive Rate')\n",
    "plt.ylabel('True Positive Rate')\n",
    "plt.show()"
   ]
  },
  {
   "cell_type": "code",
   "execution_count": 120,
   "metadata": {},
   "outputs": [],
   "source": [
    "test_data = pd.read_csv(\"test.csv\")"
   ]
  },
  {
   "cell_type": "code",
   "execution_count": 121,
   "metadata": {},
   "outputs": [
    {
     "data": {
      "text/html": [
       "<div>\n",
       "<style scoped>\n",
       "    .dataframe tbody tr th:only-of-type {\n",
       "        vertical-align: middle;\n",
       "    }\n",
       "\n",
       "    .dataframe tbody tr th {\n",
       "        vertical-align: top;\n",
       "    }\n",
       "\n",
       "    .dataframe thead th {\n",
       "        text-align: right;\n",
       "    }\n",
       "</style>\n",
       "<table border=\"1\" class=\"dataframe\">\n",
       "  <thead>\n",
       "    <tr style=\"text-align: right;\">\n",
       "      <th></th>\n",
       "      <th>id</th>\n",
       "      <th>cat0</th>\n",
       "      <th>cat1</th>\n",
       "      <th>cat2</th>\n",
       "      <th>cat3</th>\n",
       "      <th>cat4</th>\n",
       "      <th>cat5</th>\n",
       "      <th>cat6</th>\n",
       "      <th>cat7</th>\n",
       "      <th>cat8</th>\n",
       "      <th>...</th>\n",
       "      <th>cont1</th>\n",
       "      <th>cont2</th>\n",
       "      <th>cont3</th>\n",
       "      <th>cont4</th>\n",
       "      <th>cont5</th>\n",
       "      <th>cont6</th>\n",
       "      <th>cont7</th>\n",
       "      <th>cont8</th>\n",
       "      <th>cont9</th>\n",
       "      <th>cont10</th>\n",
       "    </tr>\n",
       "  </thead>\n",
       "  <tbody>\n",
       "    <tr>\n",
       "      <th>0</th>\n",
       "      <td>5</td>\n",
       "      <td>A</td>\n",
       "      <td>F</td>\n",
       "      <td>A</td>\n",
       "      <td>A</td>\n",
       "      <td>F</td>\n",
       "      <td>BI</td>\n",
       "      <td>A</td>\n",
       "      <td>AH</td>\n",
       "      <td>AX</td>\n",
       "      <td>...</td>\n",
       "      <td>0.735690</td>\n",
       "      <td>0.578366</td>\n",
       "      <td>0.723154</td>\n",
       "      <td>0.228037</td>\n",
       "      <td>0.356227</td>\n",
       "      <td>0.551249</td>\n",
       "      <td>0.655693</td>\n",
       "      <td>0.598331</td>\n",
       "      <td>0.359987</td>\n",
       "      <td>0.947489</td>\n",
       "    </tr>\n",
       "    <tr>\n",
       "      <th>1</th>\n",
       "      <td>6</td>\n",
       "      <td>A</td>\n",
       "      <td>H</td>\n",
       "      <td>C</td>\n",
       "      <td>A</td>\n",
       "      <td>E</td>\n",
       "      <td>AB</td>\n",
       "      <td>I</td>\n",
       "      <td>F</td>\n",
       "      <td>N</td>\n",
       "      <td>...</td>\n",
       "      <td>0.313703</td>\n",
       "      <td>0.928885</td>\n",
       "      <td>0.516602</td>\n",
       "      <td>0.600169</td>\n",
       "      <td>0.795224</td>\n",
       "      <td>0.248987</td>\n",
       "      <td>0.654614</td>\n",
       "      <td>0.347944</td>\n",
       "      <td>0.565520</td>\n",
       "      <td>0.388580</td>\n",
       "    </tr>\n",
       "    <tr>\n",
       "      <th>2</th>\n",
       "      <td>8</td>\n",
       "      <td>A</td>\n",
       "      <td>N</td>\n",
       "      <td>C</td>\n",
       "      <td>A</td>\n",
       "      <td>F</td>\n",
       "      <td>AB</td>\n",
       "      <td>A</td>\n",
       "      <td>AH</td>\n",
       "      <td>BC</td>\n",
       "      <td>...</td>\n",
       "      <td>0.448201</td>\n",
       "      <td>0.424876</td>\n",
       "      <td>0.344729</td>\n",
       "      <td>0.242073</td>\n",
       "      <td>0.270632</td>\n",
       "      <td>0.746740</td>\n",
       "      <td>0.335590</td>\n",
       "      <td>0.341238</td>\n",
       "      <td>0.252289</td>\n",
       "      <td>0.411592</td>\n",
       "    </tr>\n",
       "    <tr>\n",
       "      <th>3</th>\n",
       "      <td>9</td>\n",
       "      <td>B</td>\n",
       "      <td>L</td>\n",
       "      <td>C</td>\n",
       "      <td>A</td>\n",
       "      <td>F</td>\n",
       "      <td>BI</td>\n",
       "      <td>A</td>\n",
       "      <td>E</td>\n",
       "      <td>AX</td>\n",
       "      <td>...</td>\n",
       "      <td>0.666092</td>\n",
       "      <td>0.598943</td>\n",
       "      <td>0.561971</td>\n",
       "      <td>0.806347</td>\n",
       "      <td>0.735983</td>\n",
       "      <td>0.538724</td>\n",
       "      <td>0.381566</td>\n",
       "      <td>0.481660</td>\n",
       "      <td>0.348514</td>\n",
       "      <td>0.325723</td>\n",
       "    </tr>\n",
       "    <tr>\n",
       "      <th>4</th>\n",
       "      <td>11</td>\n",
       "      <td>A</td>\n",
       "      <td>F</td>\n",
       "      <td>A</td>\n",
       "      <td>B</td>\n",
       "      <td>F</td>\n",
       "      <td>BI</td>\n",
       "      <td>A</td>\n",
       "      <td>AH</td>\n",
       "      <td>I</td>\n",
       "      <td>...</td>\n",
       "      <td>0.772229</td>\n",
       "      <td>0.479572</td>\n",
       "      <td>0.767745</td>\n",
       "      <td>0.252454</td>\n",
       "      <td>0.354810</td>\n",
       "      <td>0.178920</td>\n",
       "      <td>0.763479</td>\n",
       "      <td>0.562491</td>\n",
       "      <td>0.466261</td>\n",
       "      <td>0.585781</td>\n",
       "    </tr>\n",
       "    <tr>\n",
       "      <th>...</th>\n",
       "      <td>...</td>\n",
       "      <td>...</td>\n",
       "      <td>...</td>\n",
       "      <td>...</td>\n",
       "      <td>...</td>\n",
       "      <td>...</td>\n",
       "      <td>...</td>\n",
       "      <td>...</td>\n",
       "      <td>...</td>\n",
       "      <td>...</td>\n",
       "      <td>...</td>\n",
       "      <td>...</td>\n",
       "      <td>...</td>\n",
       "      <td>...</td>\n",
       "      <td>...</td>\n",
       "      <td>...</td>\n",
       "      <td>...</td>\n",
       "      <td>...</td>\n",
       "      <td>...</td>\n",
       "      <td>...</td>\n",
       "      <td>...</td>\n",
       "    </tr>\n",
       "    <tr>\n",
       "      <th>199995</th>\n",
       "      <td>499983</td>\n",
       "      <td>A</td>\n",
       "      <td>N</td>\n",
       "      <td>A</td>\n",
       "      <td>D</td>\n",
       "      <td>F</td>\n",
       "      <td>BI</td>\n",
       "      <td>A</td>\n",
       "      <td>AF</td>\n",
       "      <td>AX</td>\n",
       "      <td>...</td>\n",
       "      <td>0.361426</td>\n",
       "      <td>0.351946</td>\n",
       "      <td>0.327670</td>\n",
       "      <td>0.205547</td>\n",
       "      <td>0.679195</td>\n",
       "      <td>0.485967</td>\n",
       "      <td>0.319130</td>\n",
       "      <td>0.520681</td>\n",
       "      <td>0.519545</td>\n",
       "      <td>0.427119</td>\n",
       "    </tr>\n",
       "    <tr>\n",
       "      <th>199996</th>\n",
       "      <td>499984</td>\n",
       "      <td>B</td>\n",
       "      <td>I</td>\n",
       "      <td>A</td>\n",
       "      <td>B</td>\n",
       "      <td>E</td>\n",
       "      <td>BI</td>\n",
       "      <td>A</td>\n",
       "      <td>AS</td>\n",
       "      <td>S</td>\n",
       "      <td>...</td>\n",
       "      <td>0.551106</td>\n",
       "      <td>0.628843</td>\n",
       "      <td>0.677765</td>\n",
       "      <td>0.624935</td>\n",
       "      <td>0.555306</td>\n",
       "      <td>0.242424</td>\n",
       "      <td>0.700829</td>\n",
       "      <td>0.531728</td>\n",
       "      <td>0.528427</td>\n",
       "      <td>0.922645</td>\n",
       "    </tr>\n",
       "    <tr>\n",
       "      <th>199997</th>\n",
       "      <td>499987</td>\n",
       "      <td>A</td>\n",
       "      <td>L</td>\n",
       "      <td>D</td>\n",
       "      <td>A</td>\n",
       "      <td>H</td>\n",
       "      <td>BI</td>\n",
       "      <td>A</td>\n",
       "      <td>AN</td>\n",
       "      <td>J</td>\n",
       "      <td>...</td>\n",
       "      <td>0.812384</td>\n",
       "      <td>0.803348</td>\n",
       "      <td>0.324762</td>\n",
       "      <td>0.665624</td>\n",
       "      <td>0.488447</td>\n",
       "      <td>0.853213</td>\n",
       "      <td>0.578641</td>\n",
       "      <td>0.811941</td>\n",
       "      <td>0.537106</td>\n",
       "      <td>0.531758</td>\n",
       "    </tr>\n",
       "    <tr>\n",
       "      <th>199998</th>\n",
       "      <td>499994</td>\n",
       "      <td>A</td>\n",
       "      <td>K</td>\n",
       "      <td>A</td>\n",
       "      <td>C</td>\n",
       "      <td>F</td>\n",
       "      <td>BI</td>\n",
       "      <td>A</td>\n",
       "      <td>R</td>\n",
       "      <td>BM</td>\n",
       "      <td>...</td>\n",
       "      <td>0.811282</td>\n",
       "      <td>0.820635</td>\n",
       "      <td>0.561449</td>\n",
       "      <td>0.797434</td>\n",
       "      <td>0.555089</td>\n",
       "      <td>0.746532</td>\n",
       "      <td>0.369986</td>\n",
       "      <td>0.438712</td>\n",
       "      <td>0.715524</td>\n",
       "      <td>0.381978</td>\n",
       "    </tr>\n",
       "    <tr>\n",
       "      <th>199999</th>\n",
       "      <td>499998</td>\n",
       "      <td>A</td>\n",
       "      <td>K</td>\n",
       "      <td>A</td>\n",
       "      <td>A</td>\n",
       "      <td>E</td>\n",
       "      <td>BI</td>\n",
       "      <td>C</td>\n",
       "      <td>AO</td>\n",
       "      <td>BM</td>\n",
       "      <td>...</td>\n",
       "      <td>0.336168</td>\n",
       "      <td>0.270483</td>\n",
       "      <td>0.581868</td>\n",
       "      <td>0.218993</td>\n",
       "      <td>0.553284</td>\n",
       "      <td>0.565213</td>\n",
       "      <td>0.378355</td>\n",
       "      <td>0.547927</td>\n",
       "      <td>0.273595</td>\n",
       "      <td>0.448016</td>\n",
       "    </tr>\n",
       "  </tbody>\n",
       "</table>\n",
       "<p>200000 rows × 31 columns</p>\n",
       "</div>"
      ],
      "text/plain": [
       "            id cat0 cat1 cat2 cat3 cat4 cat5 cat6 cat7 cat8  ...     cont1  \\\n",
       "0            5    A    F    A    A    F   BI    A   AH   AX  ...  0.735690   \n",
       "1            6    A    H    C    A    E   AB    I    F    N  ...  0.313703   \n",
       "2            8    A    N    C    A    F   AB    A   AH   BC  ...  0.448201   \n",
       "3            9    B    L    C    A    F   BI    A    E   AX  ...  0.666092   \n",
       "4           11    A    F    A    B    F   BI    A   AH    I  ...  0.772229   \n",
       "...        ...  ...  ...  ...  ...  ...  ...  ...  ...  ...  ...       ...   \n",
       "199995  499983    A    N    A    D    F   BI    A   AF   AX  ...  0.361426   \n",
       "199996  499984    B    I    A    B    E   BI    A   AS    S  ...  0.551106   \n",
       "199997  499987    A    L    D    A    H   BI    A   AN    J  ...  0.812384   \n",
       "199998  499994    A    K    A    C    F   BI    A    R   BM  ...  0.811282   \n",
       "199999  499998    A    K    A    A    E   BI    C   AO   BM  ...  0.336168   \n",
       "\n",
       "           cont2     cont3     cont4     cont5     cont6     cont7     cont8  \\\n",
       "0       0.578366  0.723154  0.228037  0.356227  0.551249  0.655693  0.598331   \n",
       "1       0.928885  0.516602  0.600169  0.795224  0.248987  0.654614  0.347944   \n",
       "2       0.424876  0.344729  0.242073  0.270632  0.746740  0.335590  0.341238   \n",
       "3       0.598943  0.561971  0.806347  0.735983  0.538724  0.381566  0.481660   \n",
       "4       0.479572  0.767745  0.252454  0.354810  0.178920  0.763479  0.562491   \n",
       "...          ...       ...       ...       ...       ...       ...       ...   \n",
       "199995  0.351946  0.327670  0.205547  0.679195  0.485967  0.319130  0.520681   \n",
       "199996  0.628843  0.677765  0.624935  0.555306  0.242424  0.700829  0.531728   \n",
       "199997  0.803348  0.324762  0.665624  0.488447  0.853213  0.578641  0.811941   \n",
       "199998  0.820635  0.561449  0.797434  0.555089  0.746532  0.369986  0.438712   \n",
       "199999  0.270483  0.581868  0.218993  0.553284  0.565213  0.378355  0.547927   \n",
       "\n",
       "           cont9    cont10  \n",
       "0       0.359987  0.947489  \n",
       "1       0.565520  0.388580  \n",
       "2       0.252289  0.411592  \n",
       "3       0.348514  0.325723  \n",
       "4       0.466261  0.585781  \n",
       "...          ...       ...  \n",
       "199995  0.519545  0.427119  \n",
       "199996  0.528427  0.922645  \n",
       "199997  0.537106  0.531758  \n",
       "199998  0.715524  0.381978  \n",
       "199999  0.273595  0.448016  \n",
       "\n",
       "[200000 rows x 31 columns]"
      ]
     },
     "execution_count": 121,
     "metadata": {},
     "output_type": "execute_result"
    }
   ],
   "source": [
    "test_data"
   ]
  },
  {
   "cell_type": "code",
   "execution_count": 122,
   "metadata": {},
   "outputs": [],
   "source": [
    "test_data = pd.get_dummies(data=test_data, drop_first=True, columns=cat_cols)"
   ]
  },
  {
   "cell_type": "code",
   "execution_count": 123,
   "metadata": {},
   "outputs": [],
   "source": [
    "test_data_copy = test_data.copy()"
   ]
  },
  {
   "cell_type": "code",
   "execution_count": 124,
   "metadata": {},
   "outputs": [],
   "source": [
    "test_data1 = test_data.drop(['id'], axis=1)"
   ]
  },
  {
   "cell_type": "code",
   "execution_count": 125,
   "metadata": {},
   "outputs": [
    {
     "data": {
      "text/plain": [
       "['cont0',\n",
       " 'cont1',\n",
       " 'cont2',\n",
       " 'cont3',\n",
       " 'cont4',\n",
       " 'cont5',\n",
       " 'cont6',\n",
       " 'cont7',\n",
       " 'cont8',\n",
       " 'cont9',\n",
       " 'cont10',\n",
       " 'cat0_B',\n",
       " 'cat1_B',\n",
       " 'cat1_C',\n",
       " 'cat1_D',\n",
       " 'cat1_E',\n",
       " 'cat1_F',\n",
       " 'cat1_G',\n",
       " 'cat1_H',\n",
       " 'cat1_I',\n",
       " 'cat1_J',\n",
       " 'cat1_K',\n",
       " 'cat1_L',\n",
       " 'cat1_M',\n",
       " 'cat1_N',\n",
       " 'cat1_O',\n",
       " 'cat2_B',\n",
       " 'cat2_C',\n",
       " 'cat2_D',\n",
       " 'cat2_E',\n",
       " 'cat2_F',\n",
       " 'cat2_G',\n",
       " 'cat2_H',\n",
       " 'cat2_I',\n",
       " 'cat2_J',\n",
       " 'cat2_K',\n",
       " 'cat2_L',\n",
       " 'cat2_M',\n",
       " 'cat2_N',\n",
       " 'cat2_O',\n",
       " 'cat2_Q',\n",
       " 'cat2_R',\n",
       " 'cat2_S',\n",
       " 'cat2_U',\n",
       " 'cat3_B',\n",
       " 'cat3_C',\n",
       " 'cat3_D',\n",
       " 'cat3_E',\n",
       " 'cat3_F',\n",
       " 'cat3_G',\n",
       " 'cat3_H',\n",
       " 'cat3_I',\n",
       " 'cat3_J',\n",
       " 'cat3_K',\n",
       " 'cat3_L',\n",
       " 'cat3_N',\n",
       " 'cat4_B',\n",
       " 'cat4_C',\n",
       " 'cat4_D',\n",
       " 'cat4_E',\n",
       " 'cat4_F',\n",
       " 'cat4_G',\n",
       " 'cat4_H',\n",
       " 'cat4_I',\n",
       " 'cat4_J',\n",
       " 'cat4_K',\n",
       " 'cat4_L',\n",
       " 'cat4_M',\n",
       " 'cat4_N',\n",
       " 'cat4_O',\n",
       " 'cat4_P',\n",
       " 'cat4_Q',\n",
       " 'cat4_R',\n",
       " 'cat4_S',\n",
       " 'cat4_T',\n",
       " 'cat5_AA',\n",
       " 'cat5_AB',\n",
       " 'cat5_AE',\n",
       " 'cat5_AF',\n",
       " 'cat5_AG',\n",
       " 'cat5_AH',\n",
       " 'cat5_AI',\n",
       " 'cat5_AJ',\n",
       " 'cat5_AK',\n",
       " 'cat5_AL',\n",
       " 'cat5_AM',\n",
       " 'cat5_AN',\n",
       " 'cat5_AO',\n",
       " 'cat5_AP',\n",
       " 'cat5_AQ',\n",
       " 'cat5_AR',\n",
       " 'cat5_AS',\n",
       " 'cat5_AT',\n",
       " 'cat5_AU',\n",
       " 'cat5_AV',\n",
       " 'cat5_AW',\n",
       " 'cat5_AX',\n",
       " 'cat5_AY',\n",
       " 'cat5_B',\n",
       " 'cat5_BA',\n",
       " 'cat5_BB',\n",
       " 'cat5_BC',\n",
       " 'cat5_BD',\n",
       " 'cat5_BE',\n",
       " 'cat5_BF',\n",
       " 'cat5_BG',\n",
       " 'cat5_BH',\n",
       " 'cat5_BI',\n",
       " 'cat5_BJ',\n",
       " 'cat5_BK',\n",
       " 'cat5_BL',\n",
       " 'cat5_BM',\n",
       " 'cat5_BN',\n",
       " 'cat5_BO',\n",
       " 'cat5_BP',\n",
       " 'cat5_BQ',\n",
       " 'cat5_BR',\n",
       " 'cat5_BS',\n",
       " 'cat5_BT',\n",
       " 'cat5_BU',\n",
       " 'cat5_BV',\n",
       " 'cat5_BX',\n",
       " 'cat5_BY',\n",
       " 'cat5_C',\n",
       " 'cat5_CA',\n",
       " 'cat5_CB',\n",
       " 'cat5_CC',\n",
       " 'cat5_CD',\n",
       " 'cat5_CE',\n",
       " 'cat5_CF',\n",
       " 'cat5_CG',\n",
       " 'cat5_CH',\n",
       " 'cat5_CI',\n",
       " 'cat5_CJ',\n",
       " 'cat5_CK',\n",
       " 'cat5_CL',\n",
       " 'cat5_D',\n",
       " 'cat5_E',\n",
       " 'cat5_F',\n",
       " 'cat5_G',\n",
       " 'cat5_H',\n",
       " 'cat5_I',\n",
       " 'cat5_J',\n",
       " 'cat5_K',\n",
       " 'cat5_L',\n",
       " 'cat5_M',\n",
       " 'cat5_N',\n",
       " 'cat5_O',\n",
       " 'cat5_P',\n",
       " 'cat5_Q',\n",
       " 'cat5_R',\n",
       " 'cat5_S',\n",
       " 'cat5_T',\n",
       " 'cat5_U',\n",
       " 'cat5_V',\n",
       " 'cat5_X',\n",
       " 'cat5_Y',\n",
       " 'cat5_ZZ',\n",
       " 'cat6_B',\n",
       " 'cat6_C',\n",
       " 'cat6_D',\n",
       " 'cat6_E',\n",
       " 'cat6_F',\n",
       " 'cat6_G',\n",
       " 'cat6_I',\n",
       " 'cat6_K',\n",
       " 'cat6_M',\n",
       " 'cat6_O',\n",
       " 'cat6_Q',\n",
       " 'cat6_S',\n",
       " 'cat6_U',\n",
       " 'cat6_W',\n",
       " 'cat6_Y',\n",
       " 'cat7_AA',\n",
       " 'cat7_AB',\n",
       " 'cat7_AC',\n",
       " 'cat7_AD',\n",
       " 'cat7_AE',\n",
       " 'cat7_AF',\n",
       " 'cat7_AG',\n",
       " 'cat7_AH',\n",
       " 'cat7_AI',\n",
       " 'cat7_AJ',\n",
       " 'cat7_AK',\n",
       " 'cat7_AL',\n",
       " 'cat7_AM',\n",
       " 'cat7_AN',\n",
       " 'cat7_AO',\n",
       " 'cat7_AP',\n",
       " 'cat7_AQ',\n",
       " 'cat7_AR',\n",
       " 'cat7_AS',\n",
       " 'cat7_AT',\n",
       " 'cat7_AU',\n",
       " 'cat7_AV',\n",
       " 'cat7_AW',\n",
       " 'cat7_AX',\n",
       " 'cat7_AY',\n",
       " 'cat7_B',\n",
       " 'cat7_BA',\n",
       " 'cat7_C',\n",
       " 'cat7_D',\n",
       " 'cat7_E',\n",
       " 'cat7_F',\n",
       " 'cat7_G',\n",
       " 'cat7_H',\n",
       " 'cat7_I',\n",
       " 'cat7_J',\n",
       " 'cat7_K',\n",
       " 'cat7_L',\n",
       " 'cat7_M',\n",
       " 'cat7_N',\n",
       " 'cat7_O',\n",
       " 'cat7_P',\n",
       " 'cat7_Q',\n",
       " 'cat7_R',\n",
       " 'cat7_S',\n",
       " 'cat7_T',\n",
       " 'cat7_U',\n",
       " 'cat7_V',\n",
       " 'cat7_W',\n",
       " 'cat7_X',\n",
       " 'cat7_Y',\n",
       " 'cat8_AB',\n",
       " 'cat8_AC',\n",
       " 'cat8_AD',\n",
       " 'cat8_AE',\n",
       " 'cat8_AF',\n",
       " 'cat8_AG',\n",
       " 'cat8_AH',\n",
       " 'cat8_AI',\n",
       " 'cat8_AJ',\n",
       " 'cat8_AK',\n",
       " 'cat8_AL',\n",
       " 'cat8_AM',\n",
       " 'cat8_AN',\n",
       " 'cat8_AO',\n",
       " 'cat8_AP',\n",
       " 'cat8_AQ',\n",
       " 'cat8_AR',\n",
       " 'cat8_AS',\n",
       " 'cat8_AT',\n",
       " 'cat8_AU',\n",
       " 'cat8_AV',\n",
       " 'cat8_AW',\n",
       " 'cat8_AX',\n",
       " 'cat8_AY',\n",
       " 'cat8_B',\n",
       " 'cat8_BA',\n",
       " 'cat8_BB',\n",
       " 'cat8_BC',\n",
       " 'cat8_BD',\n",
       " 'cat8_BE',\n",
       " 'cat8_BF',\n",
       " 'cat8_BG',\n",
       " 'cat8_BH',\n",
       " 'cat8_BI',\n",
       " 'cat8_BJ',\n",
       " 'cat8_BK',\n",
       " 'cat8_BL',\n",
       " 'cat8_BM',\n",
       " 'cat8_BN',\n",
       " 'cat8_BO',\n",
       " 'cat8_C',\n",
       " 'cat8_E',\n",
       " 'cat8_F',\n",
       " 'cat8_G',\n",
       " 'cat8_H',\n",
       " 'cat8_I',\n",
       " 'cat8_J',\n",
       " 'cat8_K',\n",
       " 'cat8_L',\n",
       " 'cat8_M',\n",
       " 'cat8_N',\n",
       " 'cat8_O',\n",
       " 'cat8_P',\n",
       " 'cat8_Q',\n",
       " 'cat8_S',\n",
       " 'cat8_T',\n",
       " 'cat8_U',\n",
       " 'cat8_V',\n",
       " 'cat8_X',\n",
       " 'cat8_Y',\n",
       " 'cat9_B',\n",
       " 'cat9_C',\n",
       " 'cat9_D',\n",
       " 'cat9_E',\n",
       " 'cat9_F',\n",
       " 'cat9_G',\n",
       " 'cat9_I',\n",
       " 'cat9_J',\n",
       " 'cat9_L',\n",
       " 'cat9_N',\n",
       " 'cat9_O',\n",
       " 'cat9_Q',\n",
       " 'cat9_R',\n",
       " 'cat9_S',\n",
       " 'cat9_U',\n",
       " 'cat9_V',\n",
       " 'cat9_W',\n",
       " 'cat9_X',\n",
       " 'cat10_AB',\n",
       " 'cat10_AC',\n",
       " 'cat10_AD',\n",
       " 'cat10_AE',\n",
       " 'cat10_AF',\n",
       " 'cat10_AG',\n",
       " 'cat10_AH',\n",
       " 'cat10_AJ',\n",
       " 'cat10_AK',\n",
       " 'cat10_AL',\n",
       " 'cat10_AM',\n",
       " 'cat10_AN',\n",
       " 'cat10_AP',\n",
       " 'cat10_AR',\n",
       " 'cat10_AS',\n",
       " 'cat10_AT',\n",
       " 'cat10_AU',\n",
       " 'cat10_AV',\n",
       " 'cat10_AY',\n",
       " 'cat10_BA',\n",
       " 'cat10_BB',\n",
       " 'cat10_BC',\n",
       " 'cat10_BD',\n",
       " 'cat10_BF',\n",
       " 'cat10_BG',\n",
       " 'cat10_BI',\n",
       " 'cat10_BL',\n",
       " 'cat10_BM',\n",
       " 'cat10_BO',\n",
       " 'cat10_BP',\n",
       " 'cat10_BQ',\n",
       " 'cat10_BT',\n",
       " 'cat10_BU',\n",
       " 'cat10_BV',\n",
       " 'cat10_BW',\n",
       " 'cat10_BX',\n",
       " 'cat10_BY',\n",
       " 'cat10_C',\n",
       " 'cat10_CA',\n",
       " 'cat10_CB',\n",
       " 'cat10_CC',\n",
       " 'cat10_CD',\n",
       " 'cat10_CF',\n",
       " 'cat10_CG',\n",
       " 'cat10_CI',\n",
       " 'cat10_CJ',\n",
       " 'cat10_CK',\n",
       " 'cat10_CL',\n",
       " 'cat10_CM',\n",
       " 'cat10_CN',\n",
       " 'cat10_CO',\n",
       " 'cat10_CP',\n",
       " 'cat10_CQ',\n",
       " 'cat10_CR',\n",
       " 'cat10_CS',\n",
       " 'cat10_CT',\n",
       " 'cat10_CU',\n",
       " 'cat10_CW',\n",
       " 'cat10_CY',\n",
       " 'cat10_D',\n",
       " 'cat10_DA',\n",
       " 'cat10_DC',\n",
       " 'cat10_DD',\n",
       " 'cat10_DE',\n",
       " 'cat10_DF',\n",
       " 'cat10_DG',\n",
       " 'cat10_DH',\n",
       " 'cat10_DI',\n",
       " 'cat10_DJ',\n",
       " 'cat10_DK',\n",
       " 'cat10_DL',\n",
       " 'cat10_DM',\n",
       " 'cat10_DN',\n",
       " 'cat10_DO',\n",
       " 'cat10_DP',\n",
       " 'cat10_DQ',\n",
       " 'cat10_DR',\n",
       " 'cat10_DS',\n",
       " 'cat10_DT',\n",
       " 'cat10_DU',\n",
       " 'cat10_DV',\n",
       " 'cat10_DW',\n",
       " 'cat10_DX',\n",
       " 'cat10_DY',\n",
       " 'cat10_E',\n",
       " 'cat10_EA',\n",
       " 'cat10_EB',\n",
       " 'cat10_EC',\n",
       " 'cat10_ED',\n",
       " 'cat10_EE',\n",
       " 'cat10_EF',\n",
       " 'cat10_EG',\n",
       " 'cat10_EH',\n",
       " 'cat10_EI',\n",
       " 'cat10_EJ',\n",
       " 'cat10_EK',\n",
       " 'cat10_EL',\n",
       " 'cat10_EN',\n",
       " 'cat10_EO',\n",
       " 'cat10_EP',\n",
       " 'cat10_EQ',\n",
       " 'cat10_ES',\n",
       " 'cat10_EU',\n",
       " 'cat10_EV',\n",
       " 'cat10_EW',\n",
       " 'cat10_EY',\n",
       " 'cat10_F',\n",
       " 'cat10_FA',\n",
       " 'cat10_FB',\n",
       " 'cat10_FC',\n",
       " 'cat10_FD',\n",
       " 'cat10_FE',\n",
       " 'cat10_FF',\n",
       " 'cat10_FG',\n",
       " 'cat10_FH',\n",
       " 'cat10_FI',\n",
       " 'cat10_FJ',\n",
       " 'cat10_FK',\n",
       " 'cat10_FL',\n",
       " 'cat10_FM',\n",
       " 'cat10_FN',\n",
       " 'cat10_FO',\n",
       " 'cat10_FP',\n",
       " 'cat10_FQ',\n",
       " 'cat10_FR',\n",
       " 'cat10_FS',\n",
       " 'cat10_FT',\n",
       " 'cat10_FV',\n",
       " 'cat10_FX',\n",
       " 'cat10_G',\n",
       " 'cat10_GA',\n",
       " 'cat10_GB',\n",
       " 'cat10_GC',\n",
       " 'cat10_GD',\n",
       " 'cat10_GE',\n",
       " 'cat10_GF',\n",
       " 'cat10_GG',\n",
       " 'cat10_GI',\n",
       " 'cat10_GJ',\n",
       " 'cat10_GK',\n",
       " 'cat10_GL',\n",
       " 'cat10_GM',\n",
       " 'cat10_GN',\n",
       " 'cat10_GQ',\n",
       " 'cat10_GR',\n",
       " 'cat10_GS',\n",
       " 'cat10_GT',\n",
       " 'cat10_GU',\n",
       " 'cat10_GV',\n",
       " 'cat10_GW',\n",
       " 'cat10_GX',\n",
       " 'cat10_GY',\n",
       " 'cat10_HA',\n",
       " 'cat10_HB',\n",
       " 'cat10_HC',\n",
       " 'cat10_HE',\n",
       " 'cat10_HF',\n",
       " 'cat10_HG',\n",
       " 'cat10_HH',\n",
       " 'cat10_HI',\n",
       " 'cat10_HJ',\n",
       " 'cat10_HK',\n",
       " 'cat10_HL',\n",
       " 'cat10_HM',\n",
       " 'cat10_HN',\n",
       " 'cat10_HO',\n",
       " 'cat10_HP',\n",
       " 'cat10_HQ',\n",
       " 'cat10_HR',\n",
       " 'cat10_HU',\n",
       " 'cat10_HV',\n",
       " 'cat10_HW',\n",
       " 'cat10_HX',\n",
       " 'cat10_HY',\n",
       " 'cat10_I',\n",
       " 'cat10_IA',\n",
       " 'cat10_IB',\n",
       " 'cat10_IC',\n",
       " 'cat10_ID',\n",
       " 'cat10_IE',\n",
       " 'cat10_IF',\n",
       " 'cat10_IG',\n",
       " 'cat10_IH',\n",
       " 'cat10_IJ',\n",
       " 'cat10_IK',\n",
       " 'cat10_IM',\n",
       " 'cat10_IN',\n",
       " 'cat10_IO',\n",
       " 'cat10_IP',\n",
       " 'cat10_IQ',\n",
       " 'cat10_IR',\n",
       " 'cat10_IT',\n",
       " 'cat10_IU',\n",
       " 'cat10_IV',\n",
       " 'cat10_IX',\n",
       " 'cat10_IY',\n",
       " 'cat10_J',\n",
       " 'cat10_JA',\n",
       " 'cat10_JB',\n",
       " 'cat10_JC',\n",
       " 'cat10_JD',\n",
       " 'cat10_JE',\n",
       " 'cat10_JG',\n",
       " 'cat10_JH',\n",
       " 'cat10_JI',\n",
       " 'cat10_JJ',\n",
       " 'cat10_JK',\n",
       " 'cat10_JL',\n",
       " 'cat10_JM',\n",
       " 'cat10_JN',\n",
       " 'cat10_JO',\n",
       " 'cat10_JP',\n",
       " 'cat10_JR',\n",
       " 'cat10_JT',\n",
       " 'cat10_JU',\n",
       " 'cat10_JV',\n",
       " 'cat10_JW',\n",
       " 'cat10_JX',\n",
       " 'cat10_JY',\n",
       " 'cat10_K',\n",
       " 'cat10_KA',\n",
       " 'cat10_KB',\n",
       " 'cat10_KC',\n",
       " 'cat10_KD',\n",
       " 'cat10_KE',\n",
       " 'cat10_KF',\n",
       " 'cat10_KG',\n",
       " 'cat10_KH',\n",
       " 'cat10_KI',\n",
       " 'cat10_KJ',\n",
       " 'cat10_KK',\n",
       " 'cat10_KL',\n",
       " 'cat10_KM',\n",
       " 'cat10_KN',\n",
       " 'cat10_KP',\n",
       " 'cat10_KQ',\n",
       " 'cat10_KR',\n",
       " 'cat10_KS',\n",
       " 'cat10_KT',\n",
       " 'cat10_KU',\n",
       " 'cat10_KV',\n",
       " 'cat10_KW',\n",
       " 'cat10_KX',\n",
       " 'cat10_L',\n",
       " 'cat10_LB',\n",
       " 'cat10_LC',\n",
       " 'cat10_LD',\n",
       " 'cat10_LE',\n",
       " 'cat10_LF',\n",
       " 'cat10_LG',\n",
       " 'cat10_LH',\n",
       " 'cat10_LI',\n",
       " 'cat10_LJ',\n",
       " 'cat10_LL',\n",
       " 'cat10_LM',\n",
       " 'cat10_LN',\n",
       " 'cat10_LO',\n",
       " 'cat10_LQ',\n",
       " 'cat10_LR',\n",
       " 'cat10_LT',\n",
       " 'cat10_LU',\n",
       " 'cat10_LV',\n",
       " 'cat10_LW',\n",
       " 'cat10_LX',\n",
       " 'cat10_LY',\n",
       " 'cat10_M',\n",
       " 'cat10_MA',\n",
       " 'cat10_MB',\n",
       " 'cat10_MC',\n",
       " 'cat10_MD',\n",
       " 'cat10_ME',\n",
       " 'cat10_MF',\n",
       " 'cat10_MG',\n",
       " 'cat10_MH',\n",
       " 'cat10_MI',\n",
       " 'cat10_MJ',\n",
       " 'cat10_ML',\n",
       " 'cat10_MP',\n",
       " 'cat10_MQ',\n",
       " 'cat10_MR',\n",
       " 'cat10_MS',\n",
       " 'cat10_MT',\n",
       " 'cat10_MU',\n",
       " 'cat10_MV',\n",
       " 'cat10_O',\n",
       " 'cat10_P',\n",
       " 'cat10_Q',\n",
       " 'cat10_R',\n",
       " 'cat10_S',\n",
       " 'cat10_T',\n",
       " 'cat10_V',\n",
       " 'cat10_W',\n",
       " 'cat10_X',\n",
       " 'cat10_Y',\n",
       " 'cat11_B',\n",
       " 'cat12_B',\n",
       " 'cat13_B',\n",
       " 'cat14_B',\n",
       " 'cat15_B',\n",
       " 'cat15_C',\n",
       " 'cat15_D',\n",
       " 'cat16_B',\n",
       " 'cat16_C',\n",
       " 'cat16_D',\n",
       " 'cat17_B',\n",
       " 'cat17_C',\n",
       " 'cat17_D',\n",
       " 'cat18_B',\n",
       " 'cat18_C',\n",
       " 'cat18_D']"
      ]
     },
     "execution_count": 125,
     "metadata": {},
     "output_type": "execute_result"
    }
   ],
   "source": [
    "test_columns = list(test_data1.columns)\n",
    "test_columns"
   ]
  },
  {
   "cell_type": "code",
   "execution_count": 126,
   "metadata": {},
   "outputs": [
    {
     "data": {
      "text/plain": [
       "616"
      ]
     },
     "execution_count": 126,
     "metadata": {},
     "output_type": "execute_result"
    }
   ],
   "source": [
    "len(cols)"
   ]
  },
  {
   "cell_type": "code",
   "execution_count": 127,
   "metadata": {},
   "outputs": [
    {
     "data": {
      "text/plain": [
       "611"
      ]
     },
     "execution_count": 127,
     "metadata": {},
     "output_type": "execute_result"
    }
   ],
   "source": [
    "len(test_columns)"
   ]
  },
  {
   "cell_type": "code",
   "execution_count": 128,
   "metadata": {},
   "outputs": [
    {
     "ename": "ValueError",
     "evalue": "list.remove(x): x not in list",
     "output_type": "error",
     "traceback": [
      "\u001b[0;31m---------------------------------------------------------------------------\u001b[0m",
      "\u001b[0;31mValueError\u001b[0m                                Traceback (most recent call last)",
      "\u001b[0;32m<ipython-input-128-cc50eb47f23a>\u001b[0m in \u001b[0;36m<module>\u001b[0;34m\u001b[0m\n\u001b[0;32m----> 1\u001b[0;31m \u001b[0mtrain_cols\u001b[0m \u001b[0;34m=\u001b[0m \u001b[0mcols\u001b[0m\u001b[0;34m.\u001b[0m\u001b[0mremove\u001b[0m\u001b[0;34m(\u001b[0m\u001b[0;34m'target'\u001b[0m\u001b[0;34m)\u001b[0m\u001b[0;34m\u001b[0m\u001b[0m\n\u001b[0m",
      "\u001b[0;31mValueError\u001b[0m: list.remove(x): x not in list"
     ]
    }
   ],
   "source": [
    "train_cols = cols.remove('target')"
   ]
  },
  {
   "cell_type": "code",
   "execution_count": 131,
   "metadata": {},
   "outputs": [
    {
     "data": {
      "text/plain": [
       "{'cat10_AW',\n",
       " 'cat10_BS',\n",
       " 'cat10_CH',\n",
       " 'cat10_CX',\n",
       " 'cat10_FW',\n",
       " 'cat10_GH',\n",
       " 'cat10_IL',\n",
       " 'cat10_JF',\n",
       " 'cat10_LK',\n",
       " 'cat10_MK',\n",
       " 'cat10_MO',\n",
       " 'cat10_MW'}"
      ]
     },
     "execution_count": 131,
     "metadata": {},
     "output_type": "execute_result"
    }
   ],
   "source": [
    "missing_cols = set(X.columns) - set(test_data1.columns)\n",
    "missing_cols"
   ]
  },
  {
   "cell_type": "code",
   "execution_count": 133,
   "metadata": {},
   "outputs": [
    {
     "data": {
      "text/plain": [
       "{'cat10_BU',\n",
       " 'cat10_BW',\n",
       " 'cat10_CA',\n",
       " 'cat10_DG',\n",
       " 'cat10_EJ',\n",
       " 'cat10_JM',\n",
       " 'cat10_KE',\n",
       " 'cat10_KM'}"
      ]
     },
     "execution_count": 133,
     "metadata": {},
     "output_type": "execute_result"
    }
   ],
   "source": [
    "missing_cols_rev = set(test_data1.columns) - set(X.columns)\n",
    "missing_cols_rev"
   ]
  },
  {
   "cell_type": "code",
   "execution_count": 105,
   "metadata": {},
   "outputs": [],
   "source": [
    "#test_data_X = test_data.drop(['id'], axis=1)"
   ]
  },
  {
   "cell_type": "code",
   "execution_count": 106,
   "metadata": {},
   "outputs": [],
   "source": [
    "#features = test_columns.remove('id')"
   ]
  },
  {
   "cell_type": "code",
   "execution_count": 135,
   "metadata": {},
   "outputs": [],
   "source": [
    "missing_cols_revlist = list(missing_cols_rev)"
   ]
  },
  {
   "cell_type": "code",
   "execution_count": 136,
   "metadata": {},
   "outputs": [],
   "source": [
    "test_data2 = test_data1.drop(missing_cols_revlist, axis=1)"
   ]
  },
  {
   "cell_type": "code",
   "execution_count": 137,
   "metadata": {},
   "outputs": [],
   "source": [
    "for cl in list(missing_cols):\n",
    "    test_data2[cl]=0"
   ]
  },
  {
   "cell_type": "code",
   "execution_count": 138,
   "metadata": {},
   "outputs": [],
   "source": [
    "test_data2 = test_data2[X.columns]"
   ]
  },
  {
   "cell_type": "code",
   "execution_count": 139,
   "metadata": {},
   "outputs": [],
   "source": [
    "predictions_test_data = over_sampled_model.predict(test_data2)"
   ]
  },
  {
   "cell_type": "code",
   "execution_count": 153,
   "metadata": {},
   "outputs": [],
   "source": [
    "submissions = pd.DataFrame({'id':test_data_copy['id'], 'target':predictions_test_data})"
   ]
  },
  {
   "cell_type": "code",
   "execution_count": 154,
   "metadata": {},
   "outputs": [
    {
     "data": {
      "text/html": [
       "<div>\n",
       "<style scoped>\n",
       "    .dataframe tbody tr th:only-of-type {\n",
       "        vertical-align: middle;\n",
       "    }\n",
       "\n",
       "    .dataframe tbody tr th {\n",
       "        vertical-align: top;\n",
       "    }\n",
       "\n",
       "    .dataframe thead th {\n",
       "        text-align: right;\n",
       "    }\n",
       "</style>\n",
       "<table border=\"1\" class=\"dataframe\">\n",
       "  <thead>\n",
       "    <tr style=\"text-align: right;\">\n",
       "      <th></th>\n",
       "      <th>id</th>\n",
       "      <th>target</th>\n",
       "    </tr>\n",
       "  </thead>\n",
       "  <tbody>\n",
       "    <tr>\n",
       "      <th>0</th>\n",
       "      <td>5</td>\n",
       "      <td>0</td>\n",
       "    </tr>\n",
       "    <tr>\n",
       "      <th>1</th>\n",
       "      <td>6</td>\n",
       "      <td>1</td>\n",
       "    </tr>\n",
       "    <tr>\n",
       "      <th>2</th>\n",
       "      <td>8</td>\n",
       "      <td>0</td>\n",
       "    </tr>\n",
       "    <tr>\n",
       "      <th>3</th>\n",
       "      <td>9</td>\n",
       "      <td>0</td>\n",
       "    </tr>\n",
       "    <tr>\n",
       "      <th>4</th>\n",
       "      <td>11</td>\n",
       "      <td>0</td>\n",
       "    </tr>\n",
       "    <tr>\n",
       "      <th>5</th>\n",
       "      <td>15</td>\n",
       "      <td>1</td>\n",
       "    </tr>\n",
       "    <tr>\n",
       "      <th>6</th>\n",
       "      <td>16</td>\n",
       "      <td>0</td>\n",
       "    </tr>\n",
       "    <tr>\n",
       "      <th>7</th>\n",
       "      <td>17</td>\n",
       "      <td>0</td>\n",
       "    </tr>\n",
       "    <tr>\n",
       "      <th>8</th>\n",
       "      <td>21</td>\n",
       "      <td>0</td>\n",
       "    </tr>\n",
       "    <tr>\n",
       "      <th>9</th>\n",
       "      <td>24</td>\n",
       "      <td>0</td>\n",
       "    </tr>\n",
       "    <tr>\n",
       "      <th>10</th>\n",
       "      <td>26</td>\n",
       "      <td>0</td>\n",
       "    </tr>\n",
       "    <tr>\n",
       "      <th>11</th>\n",
       "      <td>27</td>\n",
       "      <td>1</td>\n",
       "    </tr>\n",
       "    <tr>\n",
       "      <th>12</th>\n",
       "      <td>28</td>\n",
       "      <td>0</td>\n",
       "    </tr>\n",
       "    <tr>\n",
       "      <th>13</th>\n",
       "      <td>29</td>\n",
       "      <td>0</td>\n",
       "    </tr>\n",
       "    <tr>\n",
       "      <th>14</th>\n",
       "      <td>30</td>\n",
       "      <td>0</td>\n",
       "    </tr>\n",
       "    <tr>\n",
       "      <th>15</th>\n",
       "      <td>31</td>\n",
       "      <td>0</td>\n",
       "    </tr>\n",
       "    <tr>\n",
       "      <th>16</th>\n",
       "      <td>32</td>\n",
       "      <td>0</td>\n",
       "    </tr>\n",
       "    <tr>\n",
       "      <th>17</th>\n",
       "      <td>33</td>\n",
       "      <td>0</td>\n",
       "    </tr>\n",
       "    <tr>\n",
       "      <th>18</th>\n",
       "      <td>34</td>\n",
       "      <td>0</td>\n",
       "    </tr>\n",
       "    <tr>\n",
       "      <th>19</th>\n",
       "      <td>35</td>\n",
       "      <td>1</td>\n",
       "    </tr>\n",
       "  </tbody>\n",
       "</table>\n",
       "</div>"
      ],
      "text/plain": [
       "    id  target\n",
       "0    5       0\n",
       "1    6       1\n",
       "2    8       0\n",
       "3    9       0\n",
       "4   11       0\n",
       "5   15       1\n",
       "6   16       0\n",
       "7   17       0\n",
       "8   21       0\n",
       "9   24       0\n",
       "10  26       0\n",
       "11  27       1\n",
       "12  28       0\n",
       "13  29       0\n",
       "14  30       0\n",
       "15  31       0\n",
       "16  32       0\n",
       "17  33       0\n",
       "18  34       0\n",
       "19  35       1"
      ]
     },
     "execution_count": 154,
     "metadata": {},
     "output_type": "execute_result"
    }
   ],
   "source": [
    "submissions.head(20)"
   ]
  },
  {
   "cell_type": "code",
   "execution_count": 155,
   "metadata": {},
   "outputs": [],
   "source": [
    "submissions.reset_index(drop=True, inplace=True)"
   ]
  },
  {
   "cell_type": "code",
   "execution_count": 156,
   "metadata": {},
   "outputs": [],
   "source": [
    "submissions.to_csv(\"tabular_playground_submissions.csv\", index=False)"
   ]
  },
  {
   "cell_type": "code",
   "execution_count": 157,
   "metadata": {},
   "outputs": [
    {
     "data": {
      "text/plain": [
       "200000"
      ]
     },
     "execution_count": 157,
     "metadata": {},
     "output_type": "execute_result"
    }
   ],
   "source": [
    "submissions.shape[0]"
   ]
  },
  {
   "cell_type": "code",
   "execution_count": null,
   "metadata": {},
   "outputs": [],
   "source": []
  }
 ],
 "metadata": {
  "kernelspec": {
   "display_name": "Python 3",
   "language": "python",
   "name": "python3"
  },
  "language_info": {
   "codemirror_mode": {
    "name": "ipython",
    "version": 3
   },
   "file_extension": ".py",
   "mimetype": "text/x-python",
   "name": "python",
   "nbconvert_exporter": "python",
   "pygments_lexer": "ipython3",
   "version": "3.7.0"
  }
 },
 "nbformat": 4,
 "nbformat_minor": 4
}
